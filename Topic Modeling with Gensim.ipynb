{
 "cells": [
  {
   "cell_type": "markdown",
   "metadata": {},
   "source": [
    "# Topic Modeling with Gensim"
   ]
  },
  {
   "cell_type": "code",
   "execution_count": 1,
   "metadata": {},
   "outputs": [],
   "source": [
    "# Example 1: Load libraries\n",
    "import warnings\n",
    "import pandas as pd\n",
    "\n",
    "# import packages for text processing\n",
    "import nltk\n",
    "from nltk.corpus import stopwords\n",
    "from nltk.stem.wordnet import WordNetLemmatizer\n",
    "import re\n",
    "\n",
    "from gensim.corpora import Dictionary\n",
    "from gensim.models import ldamodel\n",
    "import numpy\n",
    "%matplotlib inline\n",
    "\n",
    "# To ignore all warnings that arise here to enhance clarity\n",
    "warnings.filterwarnings(action='ignore', category=UserWarning)"
   ]
  },
  {
   "cell_type": "markdown",
   "metadata": {},
   "source": [
    "### Example 2: Set up corpus now. In the toy corpus presented, there are 6 documents."
   ]
  },
  {
   "cell_type": "code",
   "execution_count": 2,
   "metadata": {},
   "outputs": [],
   "source": [
    "texts = [\"Human machine interface enterprise resource planning system quality processing management\",\n",
    "         \"management processing quality enterprise resource planning systems is user management\",\n",
    "         \"human engineering testing of enterprise resource planning system processing quality management\",\n",
    "         \"food desert poor staff good service cheap price bad location restaurant\",\n",
    "         \"good service poor food resturant staff bad service price desert good location\",\n",
    "         \"restaurant poor service bad food desert staff bad service high price good location\"\n",
    "         ]"
   ]
  },
  {
   "cell_type": "code",
   "execution_count": 3,
   "metadata": {},
   "outputs": [],
   "source": [
    "# Example 3: Clean data \n",
    "# You will need to review previous modules (e.g., sentiment analysis, descriptive analytics) for text cleaning and transforming\n",
    "\n",
    "# Example 3a: Remove useless numbers and alphanumerical words\n",
    "documents = [re.sub(\"[^a-z,A-Z]+\", \" \",text) for text in texts]\n",
    "# Example 3b: tokenize & lowercase\n",
    "texts = [[word for word in text.lower().split() ] for text in documents]\n",
    "# Example 3c: stemming words: having --> have; friends --> friend\n",
    "lmtzr = WordNetLemmatizer()\n",
    "texts = [[lmtzr.lemmatize(word) for word in text ] for text in texts]\n",
    "# Example 3d: remove common words\n",
    "stoplist = stopwords.words('english')\n",
    "texts = [[word for word in text if word not in stoplist] for text in texts]\n",
    "# Example 3e: remove short words\n",
    "texts =[[word for word in tokens if len(word) >=3] for tokens in texts]"
   ]
  },
  {
   "cell_type": "code",
   "execution_count": 4,
   "metadata": {},
   "outputs": [],
   "source": [
    "# Example 4: Text processing required for topic modeling with Gensim\n",
    "\n",
    "# Example 4a: Create a dictionary representation of the documents.\n",
    "dictionary = Dictionary(texts)\n",
    "\n",
    "# Example 4b: convert words to vetors or integers\n",
    "corpus = [dictionary.doc2bow(text) for text in texts]"
   ]
  },
  {
   "cell_type": "markdown",
   "metadata": {},
   "source": [
    "## Example 5: Determine Optimal k value (e.g. Number of Topics)"
   ]
  },
  {
   "cell_type": "markdown",
   "metadata": {},
   "source": [
    "Vowpal Wabbit (also known as \"VW\") is an open-source fast out-of-core machine learning system library and program developed originally at Yahoo! Research, and currently at Microsoft Research. It was started and is led by John Langford. Vowpal Wabbit is notable as an efficient scalable implementation of online machine learning with support for a number of machine learning reductions, importance weighting, and a selection of different loss functions and optimization algorithms. "
   ]
  },
  {
   "cell_type": "markdown",
   "metadata": {},
   "source": [
    "LDAMALLET is based on a Java-based package for statistical natural language processing, document classification, clustering, topic modeling, information extraction, and other machine learning applications to text. It is available in Python."
   ]
  },
  {
   "cell_type": "markdown",
   "metadata": {},
   "source": [
    "Coherence Model calculates topic coherence for topic models. This is the implementation of the four stage topic coherence pipeline from the paper Michael Roeder, Andreas Both and Alexander Hinneburg: “Exploring the space of topic coherence measures”. Typically, CoherenceModel used for evaluation of topic models.\n",
    "\n",
    "The four stage pipeline is basically:\n",
    "\n",
    "        Segmentation\n",
    "\n",
    "        Probability Estimation\n",
    "\n",
    "        Confirmation Measure\n",
    "\n",
    "        Aggregation\n",
    "\n",
    "Implementation of this pipeline allows for the user to in essence “make” a coherence measure of his/her choice by choosing a method in each of the pipelines."
   ]
  },
  {
   "cell_type": "code",
   "execution_count": 5,
   "metadata": {},
   "outputs": [
    {
     "name": "stdout",
     "output_type": "stream",
     "text": [
      "-13.81987168167417\n",
      "-14.368954324963461\n",
      "-14.201616707368425\n",
      "-14.288189745898999\n",
      "-15.078166713192537\n",
      "-14.430611226211456\n",
      "-14.151415671346621\n",
      "-14.278835278051272\n"
     ]
    }
   ],
   "source": [
    "# Example 5a: Get Models for LDA\n",
    "from gensim.models.coherencemodel import CoherenceModel\n",
    "from gensim.models.wrappers import LdaVowpalWabbit, LdaMallet\n",
    "\n",
    "# Example 5b: setting random seed to get the same results each time for different topic sizes. \n",
    "numpy.random.seed(1)\n",
    "for k in range(2, 10):\n",
    "    goodLdaModel = ldamodel.LdaModel(\n",
    "        corpus=corpus, id2word=dictionary, num_topics=k, passes=50)\n",
    "    goodcm = CoherenceModel(model=goodLdaModel, corpus=corpus,\n",
    "                            dictionary=dictionary, coherence='u_mass')\n",
    "    print(goodcm.get_coherence())"
   ]
  },
  {
   "cell_type": "code",
   "execution_count": 6,
   "metadata": {},
   "outputs": [
    {
     "data": {
      "text/plain": [
       "[<matplotlib.lines.Line2D at 0x23d70ef8488>]"
      ]
     },
     "execution_count": 6,
     "metadata": {},
     "output_type": "execute_result"
    },
    {
     "data": {
      "image/png": "[encoded data removed]",
      "text/plain": [
       "<Figure size 432x288 with 1 Axes>"
      ]
     },
     "metadata": {
      "needs_background": "light"
     },
     "output_type": "display_data"
    }
   ],
   "source": [
    "# Example 5c: Plot Output\n",
    "import matplotlib.pyplot as plt\n",
    "%matplotlib inline\n",
    "\n",
    "numpy.random.seed(1)  # setting random seed to get the same results each time.\n",
    "k_range = range(2, 10)\n",
    "scores = []\n",
    "for k in k_range:\n",
    "    goodLdaModel = ldamodel.LdaModel(\n",
    "        corpus=corpus, id2word=dictionary, num_topics=k, passes=50)\n",
    "    goodcm = CoherenceModel(model=goodLdaModel, corpus=corpus,\n",
    "                            dictionary=dictionary, coherence='u_mass')\n",
    "    scores.append(goodcm.get_coherence())\n",
    "\n",
    "plt.figure()\n",
    "plt.plot(k_range, scores)"
   ]
  },
  {
   "cell_type": "markdown",
   "metadata": {},
   "source": [
    "# Example 6: LDA Model Building"
   ]
  },
  {
   "cell_type": "code",
   "execution_count": 7,
   "metadata": {},
   "outputs": [],
   "source": [
    "# Example 6a: build a LDA topic model with 2 topics\n",
    "numpy.random.seed(1) # setting random seed to get the same results each time. \n",
    "model = ldamodel.LdaModel(corpus, id2word=dictionary, num_topics=2, passes=20)"
   ]
  },
  {
   "cell_type": "code",
   "execution_count": 8,
   "metadata": {},
   "outputs": [
    {
     "data": {
      "text/plain": [
       "[(0,\n",
       "  '0.112*\"service\" + 0.092*\"good\" + 0.092*\"bad\" + 0.071*\"food\" + 0.071*\"location\" + 0.071*\"price\" + 0.071*\"staff\" + 0.071*\"desert\" + 0.071*\"poor\" + 0.051*\"restaurant\"'),\n",
       " (1,\n",
       "  '0.107*\"management\" + 0.083*\"quality\" + 0.083*\"planning\" + 0.083*\"system\" + 0.083*\"resource\" + 0.083*\"processing\" + 0.083*\"enterprise\" + 0.059*\"human\" + 0.036*\"testing\" + 0.036*\"engineering\"')]"
      ]
     },
     "execution_count": 8,
     "metadata": {},
     "output_type": "execute_result"
    }
   ],
   "source": [
    "# Example 6b: print term-topic distribution\n",
    "model.show_topics()\n"
   ]
  },
  {
   "cell_type": "code",
   "execution_count": 9,
   "metadata": {},
   "outputs": [
    {
     "name": "stdout",
     "output_type": "stream",
     "text": [
      "service, good, bad, food, location, price, staff, desert, poor, restaurant\n",
      "management, quality, planning, system, resource, processing, enterprise, human, testing, engineering\n"
     ]
    }
   ],
   "source": [
    "# Example 6c: print words without probability\n",
    "\n",
    "for i in range(0, 2):\n",
    "    topics = model.show_topic(i, 10)\n",
    "    print(', '.join([str(word[0]) for word in topics]))"
   ]
  },
  {
   "cell_type": "code",
   "execution_count": 10,
   "metadata": {},
   "outputs": [
    {
     "name": "stdout",
     "output_type": "stream",
     "text": [
      "[(0, 0.04620811), (1, 0.95379186)]\n",
      "[(0, 0.050679438), (1, 0.9493205)]\n",
      "[(0, 0.04620771), (1, 0.9537923)]\n",
      "[(0, 0.9575669), (1, 0.042433117)]\n",
      "[(0, 0.9608999), (1, 0.039100103)]\n",
      "[(0, 0.96367157), (1, 0.03632842)]\n",
      "\n"
     ]
    }
   ],
   "source": [
    "# Example 6d: Assign topics to documenhts \n",
    "lda_corpus = model[corpus]\n",
    "\n",
    "results = []\n",
    "for i in lda_corpus:\n",
    "    print(i)\n",
    "    results.append(i)\n",
    "print()"
   ]
  },
  {
   "cell_type": "code",
   "execution_count": 11,
   "metadata": {},
   "outputs": [
    {
     "data": {
      "text/plain": [
       "[1, 1, 1, 0, 0, 0]"
      ]
     },
     "execution_count": 11,
     "metadata": {},
     "output_type": "execute_result"
    }
   ],
   "source": [
    "# Example 6e:  finding highest value from each row\n",
    "toptopic = [max(collection, key=lambda x: x[1])[0] for collection in results]\n",
    "toptopic[:10]"
   ]
  },
  {
   "cell_type": "markdown",
   "metadata": {},
   "source": [
    "And like we expected, the LDA model has given us near perfect results. 3 `restaurant` related and 3 `enterprise` related."
   ]
  },
  {
   "cell_type": "code",
   "execution_count": 12,
   "metadata": {},
   "outputs": [
    {
     "data": {
      "text/html": [
       "<div>\n",
       "<style scoped>\n",
       "    .dataframe tbody tr th:only-of-type {\n",
       "        vertical-align: middle;\n",
       "    }\n",
       "\n",
       "    .dataframe tbody tr th {\n",
       "        vertical-align: top;\n",
       "    }\n",
       "\n",
       "    .dataframe thead th {\n",
       "        text-align: right;\n",
       "    }\n",
       "</style>\n",
       "<table border=\"1\" class=\"dataframe\">\n",
       "  <thead>\n",
       "    <tr style=\"text-align: right;\">\n",
       "      <th></th>\n",
       "      <th>documents</th>\n",
       "      <th>0</th>\n",
       "    </tr>\n",
       "  </thead>\n",
       "  <tbody>\n",
       "    <tr>\n",
       "      <td>0</td>\n",
       "      <td>Human machine interface enterprise resource pl...</td>\n",
       "      <td>1</td>\n",
       "    </tr>\n",
       "    <tr>\n",
       "      <td>1</td>\n",
       "      <td>management processing quality enterprise resou...</td>\n",
       "      <td>1</td>\n",
       "    </tr>\n",
       "    <tr>\n",
       "      <td>2</td>\n",
       "      <td>human engineering testing of enterprise resour...</td>\n",
       "      <td>1</td>\n",
       "    </tr>\n",
       "    <tr>\n",
       "      <td>3</td>\n",
       "      <td>food desert poor staff good service cheap pric...</td>\n",
       "      <td>0</td>\n",
       "    </tr>\n",
       "    <tr>\n",
       "      <td>4</td>\n",
       "      <td>good service poor food resturant staff bad ser...</td>\n",
       "      <td>0</td>\n",
       "    </tr>\n",
       "    <tr>\n",
       "      <td>5</td>\n",
       "      <td>restaurant poor service bad food desert staff ...</td>\n",
       "      <td>0</td>\n",
       "    </tr>\n",
       "  </tbody>\n",
       "</table>\n",
       "</div>"
      ],
      "text/plain": [
       "                                           documents  0\n",
       "0  Human machine interface enterprise resource pl...  1\n",
       "1  management processing quality enterprise resou...  1\n",
       "2  human engineering testing of enterprise resour...  1\n",
       "3  food desert poor staff good service cheap pric...  0\n",
       "4  good service poor food resturant staff bad ser...  0\n",
       "5  restaurant poor service bad food desert staff ...  0"
      ]
     },
     "execution_count": 12,
     "metadata": {},
     "output_type": "execute_result"
    }
   ],
   "source": [
    "# Example 6f: Put into data frame\n",
    "toptopic = pd.DataFrame(toptopic)\n",
    "documents = pd.DataFrame(documents)\n",
    "documents = documents.rename(columns={0: 'documents'})\n",
    "summary = documents.join(toptopic)\n",
    "summary"
   ]
  },
  {
   "cell_type": "markdown",
   "metadata": {},
   "source": [
    "This exercise has shown you how to perform topic modeling with Gensim. The results show two hiddent topics in the data. One is about **restaurant** and the other **enterprise**."
   ]
  },
  {
   "cell_type": "markdown",
   "metadata": {},
   "source": [
    "# Example 7 Show interactive Topic Map"
   ]
  },
  {
   "cell_type": "code",
   "execution_count": 13,
   "metadata": {},
   "outputs": [
    {
     "name": "stderr",
     "output_type": "stream",
     "text": [
      "C:\\Users\\Vejendla\\Anaconda3\\lib\\site-packages\\past\\builtins\\misc.py:4: DeprecationWarning: Using or importing the ABCs from 'collections' instead of from 'collections.abc' is deprecated, and in 3.8 it will stop working\n",
      "  from collections import Mapping\n"
     ]
    }
   ],
   "source": [
    "import pyLDAvis.gensim"
   ]
  },
  {
   "cell_type": "code",
   "execution_count": 14,
   "metadata": {},
   "outputs": [
    {
     "name": "stderr",
     "output_type": "stream",
     "text": [
      "C:\\Users\\Vejendla\\Anaconda3\\lib\\site-packages\\pyLDAvis\\_prepare.py:257: FutureWarning: Sorting because non-concatenation axis is not aligned. A future version\n",
      "of pandas will change to not sort by default.\n",
      "\n",
      "To accept the future behavior, pass 'sort=False'.\n",
      "\n",
      "To retain the current behavior and silence the warning, pass 'sort=True'.\n",
      "\n",
      "  return pd.concat([default_term_info] + list(topic_dfs))\n"
     ]
    },
    {
     "data": {
      "text/html": [
       "\n",
       "<link rel=\"stylesheet\" type=\"text/css\" href=\"https://cdn.rawgit.com/bmabey/pyLDAvis/files/ldavis.v1.0.0.css\">\n",
       "\n",
       "\n",
       "<div id=\"ldavis_el231042462956969160134470304\"></div>\n",
       "<script type=\"text/javascript\">\n",
       "\n",
       "var ldavis_el231042462956969160134470304_data = {\"mdsDat\": {\"x\": [0.14520080387592313, -0.14520080387592313], \"y\": [0.0, 0.0], \"topics\": [1, 2], \"cluster\": [1, 1], \"Freq\": [55.341548919677734, 44.658451080322266]}, \"tinfo\": {\"Category\": [\"Default\", \"Default\", \"Default\", \"Default\", \"Default\", \"Default\", \"Default\", \"Default\", \"Default\", \"Default\", \"Default\", \"Default\", \"Default\", \"Default\", \"Default\", \"Default\", \"Default\", \"Default\", \"Default\", \"Default\", \"Default\", \"Default\", \"Default\", \"Default\", \"Default\", \"Default\", \"Topic1\", \"Topic1\", \"Topic1\", \"Topic1\", \"Topic1\", \"Topic1\", \"Topic1\", \"Topic1\", \"Topic1\", \"Topic1\", \"Topic1\", \"Topic1\", \"Topic1\", \"Topic1\", \"Topic1\", \"Topic1\", \"Topic1\", \"Topic1\", \"Topic1\", \"Topic1\", \"Topic1\", \"Topic1\", \"Topic1\", \"Topic1\", \"Topic1\", \"Topic1\", \"Topic2\", \"Topic2\", \"Topic2\", \"Topic2\", \"Topic2\", \"Topic2\", \"Topic2\", \"Topic2\", \"Topic2\", \"Topic2\", \"Topic2\", \"Topic2\", \"Topic2\", \"Topic2\", \"Topic2\", \"Topic2\", \"Topic2\", \"Topic2\", \"Topic2\", \"Topic2\", \"Topic2\", \"Topic2\", \"Topic2\", \"Topic2\", \"Topic2\", \"Topic2\"], \"Freq\": [3.0, 4.0, 2.0, 2.0, 2.0, 2.0, 2.0, 2.0, 3.0, 3.0, 2.0, 2.0, 2.0, 2.0, 2.0, 2.0, 2.0, 1.0, 1.0, 1.0, 1.0, 1.0, 2.0, 1.0, 1.0, 1.0, 4.035691738128662, 3.3017959594726562, 3.3017895221710205, 2.5676121711730957, 2.5675978660583496, 2.5675973892211914, 2.567593812942505, 2.5675718784332275, 2.5675694942474365, 1.8336001634597778, 1.099718451499939, 1.0996730327606201, 1.0995031595230103, 0.3688282370567322, 0.36850547790527344, 0.3685041666030884, 0.36835137009620667, 0.3683468699455261, 0.3685743808746338, 0.369076669216156, 0.3690648078918457, 0.3690449595451355, 0.3689905107021332, 0.3689713478088379, 0.3689068555831909, 0.3695257306098938, 3.1078414916992188, 2.41727614402771, 2.41721510887146, 2.4171972274780273, 2.4171459674835205, 2.4171271324157715, 2.4171159267425537, 1.7264407873153687, 1.035507082939148, 1.0355027914047241, 1.0353590250015259, 1.0353577136993408, 1.0350537300109863, 0.34714841842651367, 0.34698858857154846, 0.3469458222389221, 0.34716981649398804, 0.34731152653694153, 0.3473089039325714, 0.34728866815567017, 0.34728509187698364, 0.34728461503982544, 0.3472713232040405, 0.34721747040748596, 0.34721121191978455, 0.3474220931529999], \"Term\": [\"management\", \"service\", \"quality\", \"planning\", \"system\", \"resource\", \"processing\", \"enterprise\", \"good\", \"bad\", \"human\", \"food\", \"location\", \"price\", \"staff\", \"desert\", \"poor\", \"testing\", \"engineering\", \"interface\", \"machine\", \"user\", \"restaurant\", \"high\", \"resturant\", \"cheap\", \"service\", \"good\", \"bad\", \"food\", \"location\", \"price\", \"staff\", \"desert\", \"poor\", \"restaurant\", \"high\", \"resturant\", \"cheap\", \"user\", \"machine\", \"interface\", \"engineering\", \"testing\", \"human\", \"enterprise\", \"processing\", \"resource\", \"system\", \"planning\", \"quality\", \"management\", \"management\", \"quality\", \"planning\", \"system\", \"resource\", \"processing\", \"enterprise\", \"human\", \"testing\", \"engineering\", \"interface\", \"machine\", \"user\", \"cheap\", \"resturant\", \"high\", \"restaurant\", \"poor\", \"desert\", \"staff\", \"price\", \"location\", \"food\", \"bad\", \"good\", \"service\"], \"Total\": [3.0, 4.0, 2.0, 2.0, 2.0, 2.0, 2.0, 2.0, 3.0, 3.0, 2.0, 2.0, 2.0, 2.0, 2.0, 2.0, 2.0, 1.0, 1.0, 1.0, 1.0, 1.0, 2.0, 1.0, 1.0, 1.0, 4.383113861083984, 3.6490070819854736, 3.6490070819854736, 2.914883613586426, 2.9148824214935303, 2.9148824214935303, 2.9148824214935303, 2.9148807525634766, 2.9148809909820557, 2.180769920349121, 1.4466643333435059, 1.4466615915298462, 1.446651577949524, 1.4038820266723633, 1.4038631916046143, 1.4038631916046143, 1.4038541316986084, 1.4038538932800293, 2.095015048980713, 2.7861926555633545, 2.786191940307617, 2.786190986633301, 2.7861876487731934, 2.786186456680298, 2.7861828804016113, 3.4773671627044678, 3.4773671627044678, 2.7861828804016113, 2.786186456680298, 2.7861876487731934, 2.786190986633301, 2.786191940307617, 2.7861926555633545, 2.095015048980713, 1.4038538932800293, 1.4038541316986084, 1.4038631916046143, 1.4038631916046143, 1.4038820266723633, 1.446651577949524, 1.4466615915298462, 1.4466643333435059, 2.180769920349121, 2.9148809909820557, 2.9148807525634766, 2.9148824214935303, 2.9148824214935303, 2.9148824214935303, 2.914883613586426, 3.6490070819854736, 3.6490070819854736, 4.383113861083984], \"loglift\": [26.0, 25.0, 24.0, 23.0, 22.0, 21.0, 20.0, 19.0, 18.0, 17.0, 16.0, 15.0, 14.0, 13.0, 12.0, 11.0, 10.0, 9.0, 8.0, 7.0, 6.0, 5.0, 4.0, 3.0, 2.0, 1.0, 0.5091000199317932, 0.4916999936103821, 0.4916999936103821, 0.46480000019073486, 0.46480000019073486, 0.46480000019073486, 0.46480000019073486, 0.46480000019073486, 0.46480000019073486, 0.41819998621940613, 0.3174000084400177, 0.3174000084400177, 0.3172999918460846, -0.7450000047683716, -0.7458999752998352, -0.7458999752998352, -0.7462999820709229, -0.7462999820709229, -1.1460000276565552, -1.429800033569336, -1.429800033569336, -1.429900050163269, -1.4299999475479126, -1.4300999641418457, -1.4301999807357788, -1.6502000093460083, 0.6937999725341797, 0.6640999913215637, 0.6640999913215637, 0.6640999913215637, 0.6639999747276306, 0.6639999747276306, 0.6639999747276306, 0.6126000285148621, 0.501800000667572, 0.501800000667572, 0.5016000270843506, 0.5016000270843506, 0.5012999773025513, -0.6211000084877014, -0.6215999722480774, -0.6216999888420105, -1.031499981880188, -1.3212000131607056, -1.3212000131607056, -1.3213000297546387, -1.3213000297546387, -1.3213000297546387, -1.3214000463485718, -1.5461000204086304, -1.5462000370025635, -1.7288000583648682], \"logprob\": [26.0, 25.0, 24.0, 23.0, 22.0, 21.0, 20.0, 19.0, 18.0, 17.0, 16.0, 15.0, 14.0, 13.0, 12.0, 11.0, 10.0, 9.0, 8.0, 7.0, 6.0, 5.0, 4.0, 3.0, 2.0, 1.0, -2.1875998973846436, -2.3882999420166016, -2.3882999420166016, -2.6398000717163086, -2.6398000717163086, -2.6398000717163086, -2.6398000717163086, -2.6398000717163086, -2.6398000717163086, -2.9765000343322754, -3.4876999855041504, -3.4876999855041504, -3.4879000186920166, -4.5802001953125, -4.580999851226807, -4.580999851226807, -4.581500053405762, -4.581500053405762, -4.580900192260742, -4.579500198364258, -4.579500198364258, -4.579599857330322, -4.579699993133545, -4.579800128936768, -4.579999923706055, -4.5782999992370605, -2.234299898147583, -2.485599994659424, -2.485599994659424, -2.4856998920440674, -2.4856998920440674, -2.4856998920440674, -2.4856998920440674, -2.822200059890747, -3.333400011062622, -3.333400011062622, -3.3334999084472656, -3.3334999084472656, -3.3338000774383545, -4.426300048828125, -4.426700115203857, -4.426799774169922, -4.426199913024902, -4.42579984664917, -4.42579984664917, -4.425899982452393, -4.425899982452393, -4.425899982452393, -4.425899982452393, -4.42609977722168, -4.42609977722168, -4.42549991607666]}, \"token.table\": {\"Topic\": [1, 1, 1, 2, 2, 1, 1, 1, 2, 2, 1, 2, 2, 2, 1, 1, 2, 2, 2, 1, 1, 1, 1, 2, 2, 2], \"Freq\": [0.8221414685249329, 0.6912514567375183, 1.029201626777649, 0.7123247385025024, 0.7178254723548889, 1.029200553894043, 0.8221414685249329, 0.6912453770637512, 0.9546470642089844, 0.7123201489448547, 1.0292010307312012, 0.7123201489448547, 0.8627216815948486, 0.7178270220756531, 1.0292015075683594, 1.0292010307312012, 0.7178256511688232, 0.7178279757499695, 0.7178258895874023, 0.9171072840690613, 0.6912466883659363, 0.9125932455062866, 1.0292010307312012, 0.7178267240524292, 0.712324857711792, 0.7123105525970459], \"Term\": [\"bad\", \"cheap\", \"desert\", \"engineering\", \"enterprise\", \"food\", \"good\", \"high\", \"human\", \"interface\", \"location\", \"machine\", \"management\", \"planning\", \"poor\", \"price\", \"processing\", \"quality\", \"resource\", \"restaurant\", \"resturant\", \"service\", \"staff\", \"system\", \"testing\", \"user\"]}, \"R\": 26, \"lambda.step\": 0.01, \"plot.opts\": {\"xlab\": \"PC1\", \"ylab\": \"PC2\"}, \"topic.order\": [1, 2]};\n",
       "\n",
       "function LDAvis_load_lib(url, callback){\n",
       "  var s = document.createElement('script');\n",
       "  s.src = url;\n",
       "  s.async = true;\n",
       "  s.onreadystatechange = s.onload = callback;\n",
       "  s.onerror = function(){console.warn(\"failed to load library \" + url);};\n",
       "  document.getElementsByTagName(\"head\")[0].appendChild(s);\n",
       "}\n",
       "\n",
       "if(typeof(LDAvis) !== \"undefined\"){\n",
       "   // already loaded: just create the visualization\n",
       "   !function(LDAvis){\n",
       "       new LDAvis(\"#\" + \"ldavis_el231042462956969160134470304\", ldavis_el231042462956969160134470304_data);\n",
       "   }(LDAvis);\n",
       "}else if(typeof define === \"function\" && define.amd){\n",
       "   // require.js is available: use it to load d3/LDAvis\n",
       "   require.config({paths: {d3: \"https://cdnjs.cloudflare.com/ajax/libs/d3/3.5.5/d3.min\"}});\n",
       "   require([\"d3\"], function(d3){\n",
       "      window.d3 = d3;\n",
       "      LDAvis_load_lib(\"https://cdn.rawgit.com/bmabey/pyLDAvis/files/ldavis.v1.0.0.js\", function(){\n",
       "        new LDAvis(\"#\" + \"ldavis_el231042462956969160134470304\", ldavis_el231042462956969160134470304_data);\n",
       "      });\n",
       "    });\n",
       "}else{\n",
       "    // require.js not available: dynamically load d3 & LDAvis\n",
       "    LDAvis_load_lib(\"https://cdnjs.cloudflare.com/ajax/libs/d3/3.5.5/d3.min.js\", function(){\n",
       "         LDAvis_load_lib(\"https://cdn.rawgit.com/bmabey/pyLDAvis/files/ldavis.v1.0.0.js\", function(){\n",
       "                 new LDAvis(\"#\" + \"ldavis_el231042462956969160134470304\", ldavis_el231042462956969160134470304_data);\n",
       "            })\n",
       "         });\n",
       "}\n",
       "</script>"
      ],
      "text/plain": [
       "PreparedData(topic_coordinates=              x    y  topics  cluster       Freq\n",
       "topic                                           \n",
       "0      0.145201  0.0       1        1  55.341549\n",
       "1     -0.145201  0.0       2        1  44.658451, topic_info=   Category      Freq        Term     Total  loglift  logprob\n",
       "4   Default  3.000000  management  3.000000  26.0000  26.0000\n",
       "22  Default  4.000000     service  4.000000  25.0000  25.0000\n",
       "7   Default  2.000000     quality  2.000000  24.0000  24.0000\n",
       "5   Default  2.000000    planning  2.000000  23.0000  23.0000\n",
       "9   Default  2.000000      system  2.000000  22.0000  22.0000\n",
       "..      ...       ...         ...       ...      ...      ...\n",
       "18   Topic2  0.347285    location  2.914882  -1.3213  -4.4259\n",
       "16   Topic2  0.347271        food  2.914884  -1.3214  -4.4259\n",
       "13   Topic2  0.347217         bad  3.649007  -1.5461  -4.4261\n",
       "17   Topic2  0.347211        good  3.649007  -1.5462  -4.4261\n",
       "22   Topic2  0.347422     service  4.383114  -1.7288  -4.4255\n",
       "\n",
       "[78 rows x 6 columns], token_table=      Topic      Freq         Term\n",
       "term                              \n",
       "13        1  0.822141          bad\n",
       "14        1  0.691251        cheap\n",
       "15        1  1.029202       desert\n",
       "11        2  0.712325  engineering\n",
       "0         2  0.717825   enterprise\n",
       "16        1  1.029201         food\n",
       "17        1  0.822141         good\n",
       "25        1  0.691245         high\n",
       "1         2  0.954647        human\n",
       "2         2  0.712320    interface\n",
       "18        1  1.029201     location\n",
       "3         2  0.712320      machine\n",
       "4         2  0.862722   management\n",
       "5         2  0.717827     planning\n",
       "19        1  1.029202         poor\n",
       "20        1  1.029201        price\n",
       "6         2  0.717826   processing\n",
       "7         2  0.717828      quality\n",
       "8         2  0.717826     resource\n",
       "21        1  0.917107   restaurant\n",
       "24        1  0.691247    resturant\n",
       "22        1  0.912593      service\n",
       "23        1  1.029201        staff\n",
       "9         2  0.717827       system\n",
       "12        2  0.712325      testing\n",
       "10        2  0.712311         user, R=26, lambda_step=0.01, plot_opts={'xlab': 'PC1', 'ylab': 'PC2'}, topic_order=[1, 2])"
      ]
     },
     "execution_count": 14,
     "metadata": {},
     "output_type": "execute_result"
    }
   ],
   "source": [
    "pyLDAvis.enable_notebook()\n",
    "pyLDAvis.gensim.prepare(model, corpus, dictionary, sort_topics=False)"
   ]
  },
  {
   "cell_type": "markdown",
   "metadata": {},
   "source": [
    "# Example 8: Show Term and Document Topics"
   ]
  },
  {
   "cell_type": "markdown",
   "metadata": {},
   "source": [
    "We want to show off the new `get_term_topics` and `get_document_topics` functionalities, and a good way to do so is to play around with words which might have different meanings in different context.\n"
   ]
  },
  {
   "cell_type": "markdown",
   "metadata": {},
   "source": [
    "### Example 8a: get_term_topics"
   ]
  },
  {
   "cell_type": "markdown",
   "metadata": {},
   "source": [
    "The function `get_term_topics` returns the odds of that particular word belonging to a particular topic. \n",
    "A few examples:"
   ]
  },
  {
   "cell_type": "code",
   "execution_count": 15,
   "metadata": {},
   "outputs": [
    {
     "data": {
      "text/plain": [
       "[(1, 0.09655176)]"
      ]
     },
     "execution_count": 15,
     "metadata": {},
     "output_type": "execute_result"
    }
   ],
   "source": [
    "model.get_term_topics('management')"
   ]
  },
  {
   "cell_type": "markdown",
   "metadata": {},
   "source": [
    "Makes sense, the value for it belonging to `topic_0` is a lot more."
   ]
  },
  {
   "cell_type": "code",
   "execution_count": 16,
   "metadata": {},
   "outputs": [
    {
     "data": {
      "text/plain": [
       "[(1, 0.07255401)]"
      ]
     },
     "execution_count": 16,
     "metadata": {},
     "output_type": "execute_result"
    }
   ],
   "source": [
    "model.get_term_topics('system')"
   ]
  },
  {
   "cell_type": "markdown",
   "metadata": {},
   "source": [
    "### Example 8b: get_document_topics (Predictive Analytics)"
   ]
  },
  {
   "cell_type": "markdown",
   "metadata": {},
   "source": [
    "`get_document_topics` is an already existing gensim functionality which uses the `inference` function to get the sufficient statistics and figure out the topic distribution of the document.\n",
    "\n",
    "The addition to this is the ability for us to now know the topic distribution for each word in the document. \n",
    "Let us test this with two different documents which have the word bank in it, one in the finance context and one in the river context.\n",
    "\n",
    "The `get_document_topics` method returns (along with the standard document topic proprtion) the word_type followed by a list sorted with the most likely topic ids, when `per_word_topics` is set as true."
   ]
  },
  {
   "cell_type": "code",
   "execution_count": 17,
   "metadata": {},
   "outputs": [],
   "source": [
    "# Example 8c: Set up two new documents\n",
    "bow_resturant = ['bad', 'food', 'location', 'food']\n",
    "bow_enterprise = ['quality', 'system', 'resource']"
   ]
  },
  {
   "cell_type": "code",
   "execution_count": 18,
   "metadata": {},
   "outputs": [
    {
     "name": "stdout",
     "output_type": "stream",
     "text": [
      "[(13, 1), (16, 2), (18, 1)]\n"
     ]
    }
   ],
   "source": [
    "# Example 8d: convert to bag of words format first\n",
    "bow = model.id2word.doc2bow(bow_resturant)\n",
    "print(bow)"
   ]
  },
  {
   "cell_type": "code",
   "execution_count": 19,
   "metadata": {},
   "outputs": [
    {
     "data": {
      "text/plain": [
       "[(13, [0]), (16, [0]), (18, [0])]"
      ]
     },
     "execution_count": 19,
     "metadata": {},
     "output_type": "execute_result"
    }
   ],
   "source": [
    "# Example 8e: Display new words and their topics\n",
    "doc_topics, word_topics, phi_values = model.get_document_topics(\n",
    "    bow, per_word_topics=True)\n",
    "\n",
    "word_topics"
   ]
  },
  {
   "cell_type": "markdown",
   "metadata": {},
   "source": [
    "### Example 9: What does that output mean? It means that all three words are more likely to be in `topic_0` than `topic_1`."
   ]
  },
  {
   "cell_type": "code",
   "execution_count": 20,
   "metadata": {},
   "outputs": [
    {
     "data": {
      "text/plain": [
       "[(0, 0.89849526), (1, 0.10150473)]"
      ]
     },
     "execution_count": 20,
     "metadata": {},
     "output_type": "execute_result"
    }
   ],
   "source": [
    "doc_topics"
   ]
  },
  {
   "cell_type": "code",
   "execution_count": 21,
   "metadata": {},
   "outputs": [
    {
     "data": {
      "text/plain": [
       "[(13, [(0, 0.9984943)]), (16, [(0, 1.9959924)]), (18, [(0, 0.997996)])]"
      ]
     },
     "execution_count": 21,
     "metadata": {},
     "output_type": "execute_result"
    }
   ],
   "source": [
    "phi_values"
   ]
  },
  {
   "cell_type": "markdown",
   "metadata": {},
   "source": [
    "bow_resturant = ['bad','food','location'] is likely to be \"topic_0\" (restaurant)"
   ]
  },
  {
   "cell_type": "markdown",
   "metadata": {},
   "source": [
    "Now that we know exactly what `get_document_topics` does, let us now do the same with our second document, `bow_finance`."
   ]
  },
  {
   "cell_type": "code",
   "execution_count": 22,
   "metadata": {},
   "outputs": [
    {
     "data": {
      "text/plain": [
       "[(7, [1]), (8, [1]), (9, [1])]"
      ]
     },
     "execution_count": 22,
     "metadata": {},
     "output_type": "execute_result"
    }
   ],
   "source": [
    "# Example 10: convert to bag of words format first\n",
    "bow = model.id2word.doc2bow(bow_enterprise)\n",
    "doc_topics, word_topics, phi_values = model.get_document_topics(\n",
    "    bow, per_word_topics=True)\n",
    "word_topics"
   ]
  },
  {
   "cell_type": "code",
   "execution_count": 23,
   "metadata": {},
   "outputs": [
    {
     "data": {
      "text/plain": [
       "[(7, [(1, 0.9980631)]), (8, [(1, 0.9980612)]), (9, [(1, 0.9980619)])]"
      ]
     },
     "execution_count": 23,
     "metadata": {},
     "output_type": "execute_result"
    }
   ],
   "source": [
    "phi_values"
   ]
  },
  {
   "cell_type": "code",
   "execution_count": 24,
   "metadata": {},
   "outputs": [
    {
     "data": {
      "text/plain": [
       "[(0, 0.1264527), (1, 0.8735473)]"
      ]
     },
     "execution_count": 24,
     "metadata": {},
     "output_type": "execute_result"
    }
   ],
   "source": [
    "doc_topics"
   ]
  },
  {
   "cell_type": "markdown",
   "metadata": {},
   "source": [
    "The new (or unlabeled) document \"quality system resource\" is classfied as topic_1"
   ]
  },
  {
   "cell_type": "markdown",
   "metadata": {},
   "source": [
    "### Action 1 Required: Predicting the topic distribution of a new (or unlabled) document: Finish this section like those above."
   ]
  },
  {
   "cell_type": "code",
   "execution_count": 39,
   "metadata": {},
   "outputs": [],
   "source": [
    "# 2 New documents for your use (please create your own 2 or 3 topic document list)\n",
    "unlabeled = [\"poor service, looks bad restaurant management, menu is overpriced\",\n",
    "             \"Good food, great drinks. If I could only eat at one place for the rest of my life I would pick Jp's Gastropub, absolutely electric atmosphere. 10/10 would recommend\",\n",
    "             \"management of enterprise resource planning systems\",\n",
    "             \"Enterprise resource planning is the integrated management of main business processes, often in real time and mediated by software and technology\"]"
   ]
  },
  {
   "cell_type": "code",
   "execution_count": 40,
   "metadata": {},
   "outputs": [],
   "source": [
    "# Action 1a Required: Remove useless numbers and alphanumerical words\n",
    "unlabeled = [re.sub(\"[^a-z,A-Z]+\", \" \",text) for text in unlabeled]\n",
    "# Action 1b Required: tokenize & lowercase\n",
    "unlabeled = [[word for word in text.lower().split() ] for text in unlabeled]\n",
    "# Action 1c Required: stemming words: having --> have; friends --> friend\n",
    "lmtzr = WordNetLemmatizer()\n",
    "unlabeled = [[lmtzr.lemmatize(word) for word in text ] for text in unlabeled]\n",
    "# Action 1d Required: remove common words\n",
    "stoplist = stopwords.words('english')\n",
    "unlabeled = [[word for word in text if word not in stoplist] for text in unlabeled]\n",
    "# Action 1e Required: remove short words\n",
    "unlabeled = [[word for word in tokens if len(word) >=3] for tokens in unlabeled]"
   ]
  },
  {
   "cell_type": "code",
   "execution_count": 41,
   "metadata": {},
   "outputs": [
    {
     "data": {
      "text/plain": [
       "[['poor',\n",
       "  'service,',\n",
       "  'look',\n",
       "  'bad',\n",
       "  'restaurant',\n",
       "  'management,',\n",
       "  'menu',\n",
       "  'overpriced'],\n",
       " ['good',\n",
       "  'food,',\n",
       "  'great',\n",
       "  'drink',\n",
       "  'could',\n",
       "  'eat',\n",
       "  'one',\n",
       "  'place',\n",
       "  'rest',\n",
       "  'life',\n",
       "  'would',\n",
       "  'pick',\n",
       "  'gastropub,',\n",
       "  'absolutely',\n",
       "  'electric',\n",
       "  'atmosphere',\n",
       "  'would',\n",
       "  'recommend'],\n",
       " ['management', 'enterprise', 'resource', 'planning', 'system'],\n",
       " ['enterprise',\n",
       "  'resource',\n",
       "  'planning',\n",
       "  'integrated',\n",
       "  'management',\n",
       "  'main',\n",
       "  'business',\n",
       "  'processes,',\n",
       "  'often',\n",
       "  'real',\n",
       "  'time',\n",
       "  'mediated',\n",
       "  'software',\n",
       "  'technology']]"
      ]
     },
     "execution_count": 41,
     "metadata": {},
     "output_type": "execute_result"
    }
   ],
   "source": [
    "# Action 1f Required: Now your data is cleaned\n",
    "unlabeled"
   ]
  },
  {
   "cell_type": "code",
   "execution_count": 42,
   "metadata": {},
   "outputs": [
    {
     "name": "stdout",
     "output_type": "stream",
     "text": [
      "[(13, 1), (19, 1), (21, 1)]\n",
      "[(17, 1)]\n",
      "[(0, 1), (4, 1), (5, 1), (8, 1), (9, 1)]\n",
      "[(0, 1), (4, 1), (5, 1), (8, 1)]\n"
     ]
    }
   ],
   "source": [
    "# Action 1g Required: review documents\n",
    "for i in unlabeled:\n",
    "    print(model.id2word.doc2bow(i))"
   ]
  },
  {
   "cell_type": "code",
   "execution_count": 50,
   "metadata": {},
   "outputs": [
    {
     "name": "stdout",
     "output_type": "stream",
     "text": [
      "doc topics: [(0, 0.87282497), (1, 0.12717499)]\n",
      "word topics: [(13, [0]), (19, [0]), (21, [0])]\n",
      "phi_values: [(13, [(0, 0.9979845)]), (19, [(0, 0.99731725)]), (21, [(0, 0.99600613)])]\n",
      "\n",
      "doc topics: [(0, 0.7471054), (1, 0.25289452)]\n",
      "word topics: [(17, [0])]\n",
      "phi_values: [(17, [(0, 0.9942351)])]\n",
      "\n",
      "doc topics: [(0, 0.08425625), (1, 0.91574377)]\n",
      "word topics: [(0, [1]), (4, [1]), (5, [1]), (8, [1]), (9, [1])]\n",
      "phi_values: [(0, [(1, 0.99883395)]), (4, [(1, 0.999121)]), (5, [(1, 0.99883497)]), (8, [(1, 0.99883425)]), (9, [(1, 0.9988347)])]\n",
      "\n",
      "doc topics: [(0, 0.10109176), (1, 0.8989082)]\n",
      "word topics: [(0, [1]), (4, [1]), (5, [1]), (8, [1])]\n",
      "phi_values: [(0, [(1, 0.9985448)]), (4, [(1, 0.99890286)]), (5, [(1, 0.99854606)]), (8, [(1, 0.9985451)])]\n",
      "\n"
     ]
    }
   ],
   "source": [
    "# Action 1h Required: Get Topic for new documents \n",
    "for i in unlabeled:\n",
    "    bow = model.id2word.doc2bow(i)\n",
    "    doc_topics, word_topics, phi_values = model.get_document_topics(\n",
    "        bow, per_word_topics=True)\n",
    "    print(\"doc topics:\", doc_topics)\n",
    "    print(\"word topics:\", word_topics)\n",
    "    print(\"phi_values:\", phi_values)\n",
    "    print('')"
   ]
  },
  {
   "cell_type": "markdown",
   "metadata": {},
   "source": [
    "# Action 2 Required: Brief comments about your findings.\n"
   ]
  },
  {
   "cell_type": "markdown",
   "metadata": {},
   "source": [
    "From Doc Topics results....  \n",
    "\n",
    "Document1 has 87% chance belonging to topic_0 and 12% chance belonging to topic_1  \n",
    "Document2 has 74% chance belonging to topic_0 and 25% chance belonging to topic_1  \n",
    "Document3 has 8% chance belonging to topic_0 and 91% chance belonging to topic_1  \n",
    "Document4 has 10% chance belonging to topic_0 and 89% chance belonging to topic_1  \n"
   ]
  },
  {
   "cell_type": "markdown",
   "metadata": {},
   "source": [
    "From word topic results....  \n",
    "\n",
    "Document1 and Document2 has all the words beloning to topic_0  \n",
    "Document3 and Document4 has all the words beloning to topic_1  "
   ]
  },
  {
   "cell_type": "markdown",
   "metadata": {},
   "source": [
    "From phi_values values...\n",
    "\n",
    "Document1 and Document2 has all the words beloning to topic_0  \n",
    "Document3 and Document4 has all the words beloning to topic_1  \n"
   ]
  },
  {
   "cell_type": "markdown",
   "metadata": {},
   "source": [
    "**unlabeled** has 4 documents, first 2 are likely to be \"topic_1\" (resturant) and last two are likely to be \"topic_1\" (entreprise)"
   ]
  },
  {
   "cell_type": "code",
   "execution_count": null,
   "metadata": {},
   "outputs": [],
   "source": []
  }
 ],
 "metadata": {
  "kernelspec": {
   "display_name": "Python 3",
   "language": "python",
   "name": "python3"
  },
  "language_info": {
   "codemirror_mode": {
    "name": "ipython",
    "version": 3
   },
   "file_extension": ".py",
   "mimetype": "text/x-python",
   "name": "python",
   "nbconvert_exporter": "python",
   "pygments_lexer": "ipython3",
   "version": "3.7.4"
  },
  "toc": {
   "base_numbering": 1,
   "nav_menu": {},
   "number_sections": true,
   "sideBar": true,
   "skip_h1_title": false,
   "title_cell": "Table of Contents",
   "title_sidebar": "Contents",
   "toc_cell": false,
   "toc_position": {},
   "toc_section_display": true,
   "toc_window_display": false
  },
  "varInspector": {
   "cols": {
    "lenName": 16,
    "lenType": 16,
    "lenVar": 40
   },
   "kernels_config": {
    "python": {
     "delete_cmd_postfix": "",
     "delete_cmd_prefix": "del ",
     "library": "var_list.py",
     "varRefreshCmd": "print(var_dic_list())"
    },
    "r": {
     "delete_cmd_postfix": ") ",
     "delete_cmd_prefix": "rm(",
     "library": "var_list.r",
     "varRefreshCmd": "cat(var_dic_list()) "
    }
   },
   "types_to_exclude": [
    "module",
    "function",
    "builtin_function_or_method",
    "instance",
    "_Feature"
   ],
   "window_display": false
  }
 },
 "nbformat": 4,
 "nbformat_minor": 1
}
