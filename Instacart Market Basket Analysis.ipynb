{
 "cells": [
  {
   "cell_type": "markdown",
   "metadata": {
    "id": "8X_XsihvOLOx"
   },
   "source": [
    "# Instacart Market Basket Analysis using OSEMN(Awesome) Pipeline\n",
    "### Which products will an Instacart consumer purchase again?\n",
    "\n",
    "Instacart is an American company that operates as a same-day grocery delivery service. Customers select groceries through a web application from various retailers and delivered by a personal shopper. Instacart's service is mainly provided through a smartphone app, available on iOS and Android platforms, apart from its website.\n",
    "\n",
    "In 2017 Instacart organised a Kaggle competition and provided to the community a sample dataset of over 3 million grocery orders from more than 200,000 Instacart users. The orders include 32 million basket items and 50,000 unique products. The objective of the competition was participants to predict which previously purchased products will be in a user’s next order."
   ]
  },
  {
   "cell_type": "markdown",
   "metadata": {
    "id": "379R_x-FEagu"
   },
   "source": [
    "## Problem definition:  \n",
    "\n",
    "**orders:** This table includes all orders, namely **prior, train, and test**. It has single primary key (order_id).  \n",
    "**order_products_train:** This table includes training orders. It has a composite primary key (order_id and product_id) and indicates whether a product in an order is a reorder or not (through the reordered variable).  \n",
    "**order_products_prior :** This table includes prior orders. It has a composite primary key (order_id and product_id) and indicates whether a product in an order is a reorder or not (through the reordered variable).  \n",
    "**products:** This table includes all products. It has a single primary key (product_id)  \n",
    "**aisles:** This table includes all aisles. It has a single primary key (aisle_id)  \n",
    "**departments:** This table includes all departments. It has a single primary key (department_id)  \n",
    "\n",
    "The data that Instacart opened up indicates each order in the data as **prior, train or test**. Prior orders describe the past behaviour of a user while train and test orders regard the future behaviour that we need to predict.  \n",
    "\n",
    "As a result, we want to predict which previously purchased products (prior orders) will be in a user’s next order (train and test orders).  \n",
    "\n",
    "* For the train orders Instacart reveals the results (i.e., the ordered products) while for the test orders we do not have this piece of information. Moreover, the future order of each user can be either train or test meaning that each user will be either a train or a test user.\n",
    "\n",
    "The setting of the Instacart problem is described in the figure below (orders with yellow color denotes future orders of a user).\n",
    "\n",
    "<figure>\n",
    "<center>\n",
    "<img src='https://i.imgur.com/S0Miw3m.png'/>\n",
    "<figcaption>Image Caption</figcaption></center>\n",
    "</figure>\n",
    "\n",
    "* Each user has purchased various products during their prior orders. Moreover, for each user we know the order_id of their future order. The goal is to predict which of these products will be in a user's future order.\n",
    "\n",
    "* This is a **classification problem** because we need to predict whether each pair of user and product is a reorder or not. This is indicated by the value of the reordered variable, i.e. reordered=1 or reordered=0 (see figure below).\n",
    "\n",
    "<figure>\n",
    "<center>\n",
    "<img src='https://i.imgur.com/SxK2gsR.png'/>\n",
    "<figcaption>Image Caption</figcaption></center>\n",
    "</figure>\n",
    "\n",
    "* As a result we need to come up and calculate various predictor variables (X) that will describe the characteristics of a product and the behaviour of a user regarding one or multiple products. We will do so by analysing the prior orders of the dataset. We will then use the train users to create a predictive model and the test users to make our actual prediction. As a result we create a table as the following one and we train an algorithm based on predictor variables (X) and response variable (Y).\n",
    "\n",
    "<figure>\n",
    "<center>\n",
    "<img src='https://i.imgur.com/Yb1CKAF.png'/>\n",
    "<figcaption>Image Caption</figcaption></center>\n",
    "</figure>"
   ]
  },
  {
   "cell_type": "code",
   "execution_count": null,
   "metadata": {
    "id": "LksF3nX9OKah"
   },
   "outputs": [],
   "source": [
    "!apt-get install openjdk-11-jdk-headless -qq > /dev/null\n",
    "!wget -q https://www-us.apache.org/dist/spark/spark-3.0.1/spark-3.0.1-bin-hadoop3.2.tgz\n",
    "!tar -xvf spark-3.0.1-bin-hadoop3.2.tgz\n",
    "!pip install -q findspark"
   ]
  },
  {
   "cell_type": "code",
   "execution_count": null,
   "metadata": {
    "id": "SywOASMAOsRw"
   },
   "outputs": [],
   "source": [
    "#set up some environment variables and import some libraries that we need for our code\n",
    "import os\n",
    "os.environ[\"JAVA_HOME\"] = \"/usr/lib/jvm/java-11-openjdk-amd64\"\n",
    "os.environ[\"SPARK_HOME\"] = \"/content/spark-3.0.1-bin-hadoop3.2\"\n",
    "\n",
    "import findspark\n",
    "findspark.init()\n",
    "\n",
    "import pyspark\n",
    "# To use Spark and its API import the SparkContext\n",
    "from pyspark import SparkContext\n",
    "from pyspark.sql import SQLContext\n",
    "\n",
    "# Create Spark Context\n",
    "sc = SparkContext.getOrCreate()\n",
    "sqlContext = SQLContext(sc)\n",
    "\n",
    "from pyspark.ml.regression import RandomForestRegressor\n",
    "from pyspark.ml.classification import LogisticRegression, DecisionTreeClassifier"
   ]
  },
  {
   "cell_type": "markdown",
   "metadata": {
    "id": "7744deXqPRpa"
   },
   "source": [
    "## 1. Obtain the data\n",
    "First we load the necessary Python packages and then we import the CSV files that were provided by Instacart.\n",
    "\n",
    "1.1 Import the required packages\n",
    "The garbage collector (package gc), attempts to reclaim garbage, or memory occupied by objects (e.g., DataFrames) that are no longer in use by Python (ref1, ref2). This package will eliminate our risk to exceed the 16GB threshold of available RAM that Kaggle offers.\n",
    "\n",
    "The \"as\" reserved word is to define an alias to the package. The alias help us to call easier a package in our code."
   ]
  },
  {
   "cell_type": "code",
   "execution_count": null,
   "metadata": {
    "id": "A_fd4sAwWK_i"
   },
   "outputs": [],
   "source": [
    "from pyspark.sql.types import *\n",
    "# Define schema for aisles\n",
    "schemaaisles = StructType([StructField('aisle_id', IntegerType(), True),\n",
    "                     StructField('aisle', StringType(), True)])\n",
    "# Define schema for departments\n",
    "schemadepartment = StructType([StructField('department_id', IntegerType(), True),\n",
    "                     StructField('department', StringType(), True)])\n",
    "# Define schema for ordered products\n",
    "schemaordproduct = StructType([StructField('order_id', IntegerType(), True),\n",
    "                     StructField('product_id', IntegerType(), True),\n",
    "                     StructField('add_to_cart_order', StringType(), True),\n",
    "                     StructField('reordered', StringType(), True)])\n",
    "# Define schema for orders\n",
    "schemaOrders = StructType([StructField('order_id', IntegerType(), True),\n",
    "                     StructField('user_id', StringType(), True), \n",
    "                     StructField('eval_set', StringType(), True), \n",
    "                     StructField('order_number', StringType(), True), \n",
    "                     StructField('order_dow', StringType(), True), \n",
    "                     StructField('order_hour_of_day', StringType(), True),\n",
    "                     StructField('days_since_prior_order', StringType(), True) \n",
    "                    ])\n",
    "# Define schema for products\n",
    "schemaproduct = StructType([StructField('product_id', IntegerType(), True),\n",
    "                     StructField('product_name', StringType(), True),\n",
    "                     StructField('aisle_id', StringType(), True),\n",
    "                     StructField('department_id', IntegerType(), True)])"
   ]
  },
  {
   "cell_type": "markdown",
   "metadata": {
    "id": "cULFcEJpb-94"
   },
   "source": []
  },
  {
   "cell_type": "code",
   "execution_count": null,
   "metadata": {
    "colab": {
     "base_uri": "https://localhost:8080/",
     "height": 204
    },
    "id": "bwJ36035Ow6p",
    "outputId": "95de3c65-ce77-42e1-e5c6-f267eafbdf87"
   },
   "outputs": [
    {
     "name": "stdout",
     "output_type": "stream",
     "text": [
      "+--------+-------+--------+------------+---------+-----------------+----------------------+\n",
      "|order_id|user_id|eval_set|order_number|order_dow|order_hour_of_day|days_since_prior_order|\n",
      "+--------+-------+--------+------------+---------+-----------------+----------------------+\n",
      "| 2539329|      1|   prior|           1|        2|               08|                  null|\n",
      "| 2398795|      1|   prior|           2|        3|               07|                  15.0|\n",
      "|  473747|      1|   prior|           3|        3|               12|                  21.0|\n",
      "| 2254736|      1|   prior|           4|        4|               07|                  29.0|\n",
      "|  431534|      1|   prior|           5|        4|               15|                  28.0|\n",
      "+--------+-------+--------+------------+---------+-----------------+----------------------+\n",
      "only showing top 5 rows\n",
      "\n"
     ]
    }
   ],
   "source": [
    "#load in the files\n",
    "df_aisles = sqlContext.read.csv('/content/aisles.csv',header=True, schema=schemaaisles)\n",
    "df_dept = sqlContext.read.csv('/content/departments.csv',header=True, schema=schemadepartment)\n",
    "df_ord_prior = sqlContext.read.csv('/content/order_products__prior.csv',header=True, schema=schemaordproduct)\n",
    "df_ord_train = sqlContext.read.csv('/content/order_products__train.csv',header=True, schema=schemaordproduct)\n",
    "df_orders = sqlContext.read.csv('/content/orders.csv',header=True, schema=schemaOrders)\n",
    "df_products = sqlContext.read.csv('/content/products.csv',header=True, schema=schemaproduct)\n",
    "df_orders.show(5)"
   ]
  },
  {
   "cell_type": "code",
   "execution_count": null,
   "metadata": {
    "colab": {
     "base_uri": "https://localhost:8080/",
     "height": 204
    },
    "id": "EJO3B8d1LMlJ",
    "outputId": "309fff4a-fcc2-4803-8f01-b83649fe7c2e"
   },
   "outputs": [
    {
     "name": "stdout",
     "output_type": "stream",
     "text": [
      "+--------+----------+-----------------+---------+\n",
      "|order_id|product_id|add_to_cart_order|reordered|\n",
      "+--------+----------+-----------------+---------+\n",
      "|       2|     33120|                1|        1|\n",
      "|       2|     28985|                2|        1|\n",
      "|       2|      9327|                3|        0|\n",
      "|       2|     45918|                4|        1|\n",
      "|       2|     30035|                5|        0|\n",
      "+--------+----------+-----------------+---------+\n",
      "only showing top 5 rows\n",
      "\n"
     ]
    }
   ],
   "source": [
    "df_ord_prior.show(5)"
   ]
  },
  {
   "cell_type": "markdown",
   "metadata": {
    "id": "2BJDODIFjUoL"
   },
   "source": [
    "Merge the Orders with prior orders and create one DataFrame with primary key order ID"
   ]
  },
  {
   "cell_type": "code",
   "execution_count": null,
   "metadata": {
    "colab": {
     "base_uri": "https://localhost:8080/",
     "height": 204
    },
    "id": "HVeDW2G5B6pQ",
    "outputId": "a796bab0-0187-4000-e928-b6bc5474e174"
   },
   "outputs": [
    {
     "name": "stdout",
     "output_type": "stream",
     "text": [
      "+--------+-------+--------+------------+---------+-----------------+----------------------+----------+-----------------+---------+\n",
      "|order_id|user_id|eval_set|order_number|order_dow|order_hour_of_day|days_since_prior_order|product_id|add_to_cart_order|reordered|\n",
      "+--------+-------+--------+------------+---------+-----------------+----------------------+----------+-----------------+---------+\n",
      "|     148|  41523|   prior|          27|        2|               17|                   5.0|     38650|                1|        0|\n",
      "|     148|  41523|   prior|          27|        2|               17|                   5.0|     25659|                2|        0|\n",
      "|     148|  41523|   prior|          27|        2|               17|                   5.0|     35951|                3|        1|\n",
      "|     148|  41523|   prior|          27|        2|               17|                   5.0|     34197|                4|        1|\n",
      "|     148|  41523|   prior|          27|        2|               17|                   5.0|     11712|                5|        1|\n",
      "+--------+-------+--------+------------+---------+-----------------+----------------------+----------+-----------------+---------+\n",
      "only showing top 5 rows\n",
      "\n"
     ]
    }
   ],
   "source": [
    "# Merge the orders df with order_products_prior df by their order_id, keep only these rows with order_id that they are appear on both DFs  \n",
    "opp_df = df_orders.join(df_ord_prior, on=['order_id'], how='inner')  \n",
    "opp_df.show(5)  \n",
    "# This df contains for all the customers (user_id):  \n",
    "       #➡︎ the orders (order_id) that they have placed accompanied with:\n",
    "       #➡︎ the products (product_id) that have been bought in each order"
   ]
  },
  {
   "cell_type": "markdown",
   "metadata": {
    "id": "0uOXGrZuNJbL"
   },
   "source": [
    "## 2. Scrubbing / Cleaning the data\n",
    "\n",
    "\n",
    "We are now ready to identify/create **predictor variables** based on the provided data. We can create various types of predictors such as:\n",
    "\n",
    "--> User predictors describing the behavior of a user e.g. total number of orders of a user.  \n",
    "--> Product predictors describing characteristics of a product e.g. total number of times a product has been purchased.  \n",
    "--> User & product predictors describing the behavior of a user towards a specific product e.g. total times a user ordered a specific product.  \n",
    "\n",
    "### 2.1 Create user predictors\n",
    "\n",
    "2.1.1 Number of orders per customer:   \n",
    "We calculate the total number of placed orders per customer. We create a user DataFrame to store the results.  "
   ]
  },
  {
   "cell_type": "code",
   "execution_count": null,
   "metadata": {
    "colab": {
     "base_uri": "https://localhost:8080/",
     "height": 204
    },
    "id": "HitgIhznPzns",
    "outputId": "7f257662-ca45-4ae3-abee-c49e0ee337ba"
   },
   "outputs": [
    {
     "name": "stdout",
     "output_type": "stream",
     "text": [
      "+-------+--------------+\n",
      "|user_id|u_total_orders|\n",
      "+-------+--------------+\n",
      "| 100010|             9|\n",
      "| 100140|             3|\n",
      "| 100227|             7|\n",
      "| 100263|             9|\n",
      "| 100320|             9|\n",
      "+-------+--------------+\n",
      "only showing top 5 rows\n",
      "\n"
     ]
    }
   ],
   "source": [
    "import pyspark.sql.functions as F\n",
    "\n",
    "# Create distinct groups for each user, identify the highest order number in each group, save the new column to a DataFrame\n",
    "user = opp_df.groupBy('user_id').agg(F.max('order_number')).toDF('user_id','u_total_orders')\n",
    "user.show(5)"
   ]
  },
  {
   "cell_type": "markdown",
   "metadata": {
    "id": "ZnsihksGRB6K"
   },
   "source": [
    "2.1.2 How frequent a customer has reordered products:  \n",
    "This feature is a ratio which shows for each user in what extent has products that have been reordered in the past:  \n",
    "\n",
    "<figure>\n",
    "<center>\n",
    "<img src='https://latex.codecogs.com/gif.latex?\\dpi{120}&space;\\large&space;probability\\&space;reordered\\&space;(user\\_id)=&space;\\frac{total\\&space;times\\&space;of\\&space;reorders}{total\\&space;number\\&space;of\\&space;purchased\\&space;products\\&space;from\\&space;all\\&space;baskets}'/>\n",
    "<figcaption>Image Caption</figcaption></center>\n",
    "</figure>\n",
    "\n",
    "\n",
    "\n",
    "\n",
    "\n",
    "The nominator is a counter for all the times a user has reordered products (value on reordered=1), the denominator is a counter of all the products that have been purchased on all user's orders (reordered=0 & reordered=1)."
   ]
  },
  {
   "cell_type": "code",
   "execution_count": null,
   "metadata": {
    "colab": {
     "base_uri": "https://localhost:8080/",
     "height": 204
    },
    "id": "UkQ-T0C4RyIl",
    "outputId": "fedaaee6-b514-4730-a7f3-f906415a0eb6"
   },
   "outputs": [
    {
     "name": "stdout",
     "output_type": "stream",
     "text": [
      "+-------+-----------------+\n",
      "|user_id|u_reordered_ratio|\n",
      "+-------+-----------------+\n",
      "| 145518|              0.6|\n",
      "| 154770|             0.42|\n",
      "| 105758|              0.6|\n",
      "| 143037|             0.79|\n",
      "|  14369|             0.53|\n",
      "+-------+-----------------+\n",
      "only showing top 5 rows\n",
      "\n"
     ]
    }
   ],
   "source": [
    "u_reorder_df = opp_df.groupBy('user_id').agg(F.round(F.mean('reordered'),2)).toDF('user_id','u_reordered_ratio')\n",
    "u_reorder_df.show(5)"
   ]
  },
  {
   "cell_type": "markdown",
   "metadata": {
    "id": "QZXDzVzHMB3d"
   },
   "source": [
    "The new feature will be merged with the user DataFrame (section 2.1.1) which keep all the features based on users. We perform a left join as we want to keep all the users that we have created on the user DataFrame.\n",
    "\n",
    "\n",
    "<figure>\n",
    "<center>\n",
    "<img src='https://i.imgur.com/wMmC4hb.jpg' , width=\"220\" height=\"120\"/>\n",
    "<figcaption>Image Caption</figcaption></center>\n",
    "</figure>\n"
   ]
  },
  {
   "cell_type": "code",
   "execution_count": null,
   "metadata": {
    "colab": {
     "base_uri": "https://localhost:8080/",
     "height": 204
    },
    "id": "4ayzNC9tNWXC",
    "outputId": "73f9a647-d12d-4ef5-b68e-06dbab89c750"
   },
   "outputs": [
    {
     "name": "stdout",
     "output_type": "stream",
     "text": [
      "+-------+--------------+-----------------+\n",
      "|user_id|u_total_orders|u_reordered_ratio|\n",
      "+-------+--------------+-----------------+\n",
      "| 100010|             9|             0.42|\n",
      "| 100140|             3|             0.13|\n",
      "| 100227|             7|             0.48|\n",
      "| 100263|             9|             0.82|\n",
      "| 100320|             9|             0.45|\n",
      "+-------+--------------+-----------------+\n",
      "only showing top 5 rows\n",
      "\n"
     ]
    }
   ],
   "source": [
    "#Join total orders feature with reorder ratio feature and create one single dataframe\n",
    "user_df = user.join(u_reorder_df, on='user_id', how='left').toDF('user_id','u_total_orders','u_reordered_ratio')\n",
    "user_df.show(5)"
   ]
  },
  {
   "cell_type": "markdown",
   "metadata": {
    "id": "NWbNu8SiRyqf"
   },
   "source": [
    "## 2.2 Create product predictors  \n",
    "2.2.1 Number of purchases for each product:  \n",
    "We calculate the total number of purchases for each product (from all customers). We create a prd DataFrame to store the results.  "
   ]
  },
  {
   "cell_type": "code",
   "execution_count": null,
   "metadata": {
    "colab": {
     "base_uri": "https://localhost:8080/",
     "height": 204
    },
    "id": "BsI8ZS0dOkjX",
    "outputId": "81765596-54b9-446b-a572-d8bdef5a3985"
   },
   "outputs": [
    {
     "name": "stdout",
     "output_type": "stream",
     "text": [
      "+----------+-----------------+\n",
      "|product_id|p_total_purchases|\n",
      "+----------+-----------------+\n",
      "|     41890|             1949|\n",
      "|      8592|              990|\n",
      "|     29228|              547|\n",
      "|     40386|             2708|\n",
      "|     42834|             1800|\n",
      "+----------+-----------------+\n",
      "only showing top 5 rows\n",
      "\n"
     ]
    }
   ],
   "source": [
    "# Create distinct groups for each product, count the orders, save the result for each product to a new DataFrame  \n",
    "prd_df = opp_df.groupBy('product_id').agg(F.count('order_id')).toDF('product_id','p_total_purchases')\n",
    "prd_df.show(5)"
   ]
  },
  {
   "cell_type": "markdown",
   "metadata": {
    "id": "2kh7zJFmR8Eg"
   },
   "source": [
    "2.2.2 What is the probability for a product to be reordered:  \n",
    "In this section we want to find the products which have the highest probability of being reordered. Towards this end it is necessary to define the probability as below:\n",
    "\n",
    "\n",
    "<figure>\n",
    "<center>\n",
    "<img src='https://latex.codecogs.com/gif.latex?\\dpi{150}&space;\\large&space;probability\\&space;reordered\\&space;(product\\_id)=&space;\\frac{number\\&space;of\\&space;reorders}{total\\&space;number\\&space;of\\&space;orders\\&space;}'/>\n",
    "<figcaption>Image Caption</figcaption></center>\n",
    "</figure>\n",
    "\n"
   ]
  },
  {
   "cell_type": "markdown",
   "metadata": {
    "id": "saldPbFJiXIH"
   },
   "source": [
    "2.2.2.1 Group products, calculate the mean of reorders  \n",
    "To calculate the reorder probability we will use the aggregation function mean() to the reordered column. In the reorder data frame, the reordered column indicates that a product has been reordered when the value is 1.\n",
    "\n",
    "The .mean() calculates how many times a product has been reordered, divided by how many times has been ordered in total."
   ]
  },
  {
   "cell_type": "code",
   "execution_count": null,
   "metadata": {
    "colab": {
     "base_uri": "https://localhost:8080/",
     "height": 204
    },
    "id": "K_cAu4O-iWkg",
    "outputId": "08331d3b-66b1-4ebb-e2ce-39e72356635d"
   },
   "outputs": [
    {
     "name": "stdout",
     "output_type": "stream",
     "text": [
      "+----------+---------------+\n",
      "|product_id|p_reorder_ratio|\n",
      "+----------+---------------+\n",
      "|     41890|            0.7|\n",
      "|      8592|           0.63|\n",
      "|     29228|           0.24|\n",
      "|     40386|            0.6|\n",
      "|     42834|           0.51|\n",
      "+----------+---------------+\n",
      "only showing top 5 rows\n",
      "\n"
     ]
    }
   ],
   "source": [
    "# Calculate the ratio for each product. The aggregation function is limited to column 'reordered' and it calculates the mean value of each group.\n",
    "p_reorder_df = opp_df.groupBy('product_id').agg(F.round(F.mean('reordered'),2)).toDF('product_id','p_reorder_ratio')\n",
    "p_reorder_df.show(5)"
   ]
  },
  {
   "cell_type": "markdown",
   "metadata": {
    "id": "VK5JvyV1lmL4"
   },
   "source": [
    "2.2.2.2 Merge the new feature on prd DataFrame\n",
    "The new feature will be merged with the prd DataFrame (section 2.2.1) which keep all the features based on products. We perform a left join as we want to keep all the products that we have created on the prd DataFrame\n",
    "\n",
    "<figure>\n",
    "<center>\n",
    "<img src='https://i.imgur.com/dOVWPKb.jpg' , width=\"260\" height=\"150\"/>\n",
    "<figcaption>Image Caption</figcaption></center>\n",
    "</figure>\n",
    "\n"
   ]
  },
  {
   "cell_type": "code",
   "execution_count": null,
   "metadata": {
    "colab": {
     "base_uri": "https://localhost:8080/",
     "height": 204
    },
    "id": "x21XrsZRly6-",
    "outputId": "71143b26-025b-4e88-b29d-1858690bb858"
   },
   "outputs": [
    {
     "name": "stdout",
     "output_type": "stream",
     "text": [
      "+----------+-----------------+---------------+\n",
      "|product_id|p_total_purchases|p_reorder_ratio|\n",
      "+----------+-----------------+---------------+\n",
      "|       148|             4903|           0.57|\n",
      "|       463|               32|           0.13|\n",
      "|       471|              138|           0.57|\n",
      "|       496|               37|           0.38|\n",
      "|       833|               12|           0.08|\n",
      "+----------+-----------------+---------------+\n",
      "only showing top 5 rows\n",
      "\n"
     ]
    }
   ],
   "source": [
    "#Join total orders feature with reorder ratio feature and create one single dataframe\n",
    "product_df = prd_df.join(p_reorder_df, on='product_id', how='left').toDF('product_id','p_total_purchases','p_reorder_ratio')\n",
    "product_df.show(5)"
   ]
  },
  {
   "cell_type": "markdown",
   "metadata": {
    "id": "uuc_5rJKSDgL"
   },
   "source": [
    "## 2.3 Create user-product predictors\n",
    "**2.3.1 How many times a user bought a product:**  \n",
    "We create different groups that contain all the rows for each combination of user and product. With the aggregation function .count( ) we get how many times each user bought a product. We save the results on new uxp DataFrame."
   ]
  },
  {
   "cell_type": "code",
   "execution_count": null,
   "metadata": {
    "colab": {
     "base_uri": "https://localhost:8080/",
     "height": 204
    },
    "id": "1WO3bX_urbE2",
    "outputId": "bca5ba57-9f4b-4bd9-ff08-1d355f4336a0"
   },
   "outputs": [
    {
     "name": "stdout",
     "output_type": "stream",
     "text": [
      "+-------+----------+----------------+\n",
      "|user_id|product_id|uxp_total_bought|\n",
      "+-------+----------+----------------+\n",
      "| 132282|     26298|              10|\n",
      "|   7293|     47209|              10|\n",
      "|  86208|     31066|               1|\n",
      "|  51994|     33373|               1|\n",
      "|  34461|     24852|              17|\n",
      "+-------+----------+----------------+\n",
      "only showing top 5 rows\n",
      "\n"
     ]
    }
   ],
   "source": [
    "# Create distinct groups for each combination of user and product, count orders, save the result for each user X product to a new DataFrame \n",
    "uxp = opp_df.groupBy(['user_id', 'product_id']).agg(F.count('order_id')).toDF('user_id', 'product_id','uxp_total_bought')\n",
    "uxp.show(5)"
   ]
  },
  {
   "cell_type": "markdown",
   "metadata": {
    "id": "wTVQ3mKWSDmy"
   },
   "source": [
    "**2.3.2 How frequently a customer bought a product after its first purchase:**  \n",
    "Which is actually the following ratio for each combination of customer and product:  \n",
    "<figure>\n",
    "<center>\n",
    "<img src='https://latex.codecogs.com/gif.latex?\\dpi{120}&space;\\large&space;probability\\&space;reordered\\&space;(user\\_id\\&space;,&space;product\\_id)&space;=&space;\\frac{times\\&space;a\\&space;user\\&space;bought\\&space;a\\&space;product}{number&space;\\&space;of\\&space;orders\\&space;placed\\&space;since\\&space;first\\&space;purchase}'/>\n",
    "<figcaption>Image Caption</figcaption></center>\n",
    "</figure>\n",
    "\n",
    "Before we show how we can create the above ratio we declare the following variables:\n",
    "\n",
    "* How many times a customer bought a product? ('Times_Bought_N')\n",
    "* For each product get the total orders placed since its first order ('Order_Range_D')\n",
    "\n",
    "<figure>\n",
    "<center>\n",
    "<img src='https://latex.codecogs.com/gif.latex?\\dpi{120}&space;\\large&space;probability\\&space;reordered\\&space;(user\\_id\\&space;,&space;product\\_id)&space;=&space;\\frac{Times\\_Bought\\_N}{Order\\_Range\\_D}'/>\n",
    "<figcaption>Image Caption</figcaption></center>\n",
    "</figure>\n",
    "\n",
    "Where Order_Range_D is created throught two supportive variables:\n",
    "\n",
    "* The total number of orders for each customer ('total_orders')\n",
    "* The order number where the customer bought a product for first time ('first_order_number')\n",
    "\n",
    "<figure>\n",
    "<center>\n",
    "<img src='https://latex.codecogs.com/gif.latex?%5Cdpi%7B120%7D%20%5C%20%5C%20%5C%20%5C%20%5C%20Order%5C_Range%5C_D%28user%5C_id%2C%20product%5C_id%29%20%3D%20%5Cnewline%20%3D%5C%20total%5C_orders%28user%5C_id%29%20-%20first%5C_order%5C_number%28user%5C_id%2C%20product%5C_id%29%20+%201'/>\n",
    "<figcaption>Image Caption</figcaption></center>\n",
    "</figure>\n",
    "\n",
    "In the next blocks we show how we create:\n",
    "\n",
    "1. The numerator 'Times_Bought_N'\n",
    "2. The supportive variables 'total_orders' & 'first_order_number'\n",
    "3. The denumerator 'Order_Range_D' with the use of the supportive variables\n",
    "4. Our final ratio 'uxp_order_ratio'\n"
   ]
  },
  {
   "cell_type": "markdown",
   "metadata": {
    "id": "tb2AWce-mjEo"
   },
   "source": [
    "**2.3.2.1 Calculating the numerator - How many times a customer bought a product? ('Times_Bought_N')**\n",
    "\n",
    "To answer this question we simply .groupby( ) user_id & product_id and we count the instances of order_id for each group."
   ]
  },
  {
   "cell_type": "code",
   "execution_count": null,
   "metadata": {
    "colab": {
     "base_uri": "https://localhost:8080/",
     "height": 102
    },
    "id": "apMiFhTUsaCL",
    "outputId": "f3314c65-64f9-4e30-b51f-74bfcf6e871f"
   },
   "outputs": [
    {
     "data": {
      "text/plain": [
       "[Row(user_id='132282', product_id=26298, Times_Bought_N=10),\n",
       " Row(user_id='7293', product_id=47209, Times_Bought_N=10),\n",
       " Row(user_id='86208', product_id=31066, Times_Bought_N=1),\n",
       " Row(user_id='51994', product_id=33373, Times_Bought_N=1),\n",
       " Row(user_id='34461', product_id=24852, Times_Bought_N=17)]"
      ]
     },
     "execution_count": 14,
     "metadata": {
      "tags": []
     },
     "output_type": "execute_result"
    }
   ],
   "source": [
    "# We calculated already this in Step - 2.3.1 (How many times a user bought a product:), just rename the coulmn\n",
    "times_bought_df = uxp.toDF('user_id', 'product_id','Times_Bought_N')\n",
    "times_bought_df.head(5)"
   ]
  },
  {
   "cell_type": "markdown",
   "metadata": {
    "id": "Ezf4dQsSnTGj"
   },
   "source": [
    "**2.3.2.2 Calculating the denumerator**\n",
    "\n",
    "To calculate the denumerator, we have first to calculate the total orders of each user & first order number for each user and every product purchase\n",
    "\n",
    "**2.3.2.2.a The total number of orders for each customer ('total_orders')** 📚📝  \n",
    "Here we .groupby( ) only by the user_id, we keep the column order_number and we get its highest value with the aggregation function .mean()"
   ]
  },
  {
   "cell_type": "code",
   "execution_count": null,
   "metadata": {
    "colab": {
     "base_uri": "https://localhost:8080/",
     "height": 204
    },
    "id": "LqkWayDIoHv9",
    "outputId": "5594ff26-b0e7-48aa-cffe-5fd208f7fb62"
   },
   "outputs": [
    {
     "name": "stdout",
     "output_type": "stream",
     "text": [
      "+-------+--------------+\n",
      "|user_id|u_total_orders|\n",
      "+-------+--------------+\n",
      "| 100010|             9|\n",
      "| 100140|             3|\n",
      "| 100227|             7|\n",
      "| 100263|             9|\n",
      "| 100320|             9|\n",
      "+-------+--------------+\n",
      "only showing top 5 rows\n",
      "\n"
     ]
    }
   ],
   "source": [
    "# Create distinct groups for each user, identify the highest order number in each group, save the new column to a DataFrame\n",
    "# We caculated this in step - 2.1.1 Number of orders per customer:\n",
    "#total_orders_df = user.toDF('user_id', 'u_total_orders')\n",
    "total_orders_df = user\n",
    "total_orders_df.show(5)"
   ]
  },
  {
   "cell_type": "markdown",
   "metadata": {
    "id": "QTIZLcXMr8DT"
   },
   "source": [
    "**2.3.2.2.b The order number where the customer bought a product for first time ('first_order_number')**\n",
    "Where for first_order_number we .groupby( ) by both user_id & product_id. As we want to get the order when a product has been purchases for first time, we select the order_number column and we retrieve with .min( ) aggregation function, the earliest order."
   ]
  },
  {
   "cell_type": "code",
   "execution_count": null,
   "metadata": {
    "colab": {
     "base_uri": "https://localhost:8080/",
     "height": 204
    },
    "id": "CxzPScyYr1yD",
    "outputId": "b346e822-3fa0-46c0-ab3e-8ba92c86517d"
   },
   "outputs": [
    {
     "name": "stdout",
     "output_type": "stream",
     "text": [
      "+-------+----------+------------------+\n",
      "|user_id|product_id|first_order_number|\n",
      "+-------+----------+------------------+\n",
      "|  10000|     41570|                 6|\n",
      "| 100001|     22474|                66|\n",
      "| 100008|     25146|                28|\n",
      "| 100008|     26885|                10|\n",
      "| 100010|      1447|                 1|\n",
      "+-------+----------+------------------+\n",
      "only showing top 5 rows\n",
      "\n"
     ]
    }
   ],
   "source": [
    "# Create distinct groups for each user, identify the highest order number in each group, save the new column to a DataFrame\n",
    "first_order_df = opp_df.groupBy(['user_id','product_id']).agg(F.min('order_number')).toDF('user_id','product_id','first_order_number')\n",
    "first_order_df.show(5)"
   ]
  },
  {
   "cell_type": "markdown",
   "metadata": {
    "id": "k8FpqA8vsfsA"
   },
   "source": [
    "We merge the first order number with the total_orders DataFrame. As total_orders refers to all users, where first_order_no refers to unique combinations of user & product, we perform a right join:\n",
    "\n",
    "<figure>\n",
    "<center>\n",
    "<img src='https://i.imgur.com/bhln0tn.jpg', width=\"260\" height=\"150\"/>\n",
    "<figcaption>Image Caption</figcaption></center>\n",
    "</figure>"
   ]
  },
  {
   "cell_type": "code",
   "execution_count": null,
   "metadata": {
    "colab": {
     "base_uri": "https://localhost:8080/",
     "height": 34
    },
    "id": "Y99Cfr_SsvX9",
    "outputId": "d24c977c-b48e-468b-80c5-a1ec4b530cc1"
   },
   "outputs": [
    {
     "data": {
      "text/plain": [
       "Row(user_id='100010', u_total_orders='9', product_id=1447, first_order_number='1')"
      ]
     },
     "execution_count": 17,
     "metadata": {
      "tags": []
     },
     "output_type": "execute_result"
    }
   ],
   "source": [
    "span_df = total_orders_df.join(first_order_df, on=['user_id'], how='right')  \n",
    "span_df.head()"
   ]
  },
  {
   "cell_type": "markdown",
   "metadata": {
    "id": "DmHxV_c6tR5F"
   },
   "source": [
    "**2.3.2.2.c For each product get the total orders placed since its first order ('Order_Range_D')**\n",
    "The denominator now can be created with simple operations between the columns of results DataFrame:"
   ]
  },
  {
   "cell_type": "code",
   "execution_count": null,
   "metadata": {
    "colab": {
     "base_uri": "https://localhost:8080/",
     "height": 34
    },
    "id": "Gtb61dQgtUfK",
    "outputId": "9f034d13-5769-4dd3-d5eb-a927fb72a763"
   },
   "outputs": [
    {
     "data": {
      "text/plain": [
       "Row(user_id='100010', u_total_orders='9', product_id=1447, first_order_number='1', Order_Range_D=9.0)"
      ]
     },
     "execution_count": 18,
     "metadata": {
      "tags": []
     },
     "output_type": "execute_result"
    }
   ],
   "source": [
    "# The +1 includes in the difference the first order where the product has been purchased\n",
    "span_df = span_df.withColumn('Order_Range_D', span_df.u_total_orders - span_df.first_order_number + 1)\n",
    "span_df.head()"
   ]
  },
  {
   "cell_type": "markdown",
   "metadata": {
    "id": "ZVSA1zegtjeC"
   },
   "source": [
    "**2.3.2.3 Create the final ratio \"uxp_reorder_ratio\"**\n",
    "\n",
    "2.3.2.3.a Merge the DataFrames of numerator & denumerator\n",
    "We select to merge times DataFrame which contains the numerator & span which contains the denumerator of our desired ratio. As both variables derived from the combination of users & products, any type of join will keep all the combinations.\n",
    "\n",
    "<figure>\n",
    "<center>\n",
    "<img src='https://i.imgur.com/h7m1bFh.jpg', width=\"260\" height=\"150\"/>\n",
    "<figcaption>Image Caption</figcaption></center>\n",
    "</figure>"
   ]
  },
  {
   "cell_type": "code",
   "execution_count": null,
   "metadata": {
    "colab": {
     "base_uri": "https://localhost:8080/",
     "height": 34
    },
    "id": "hkqagWwgtmLr",
    "outputId": "97fdcb94-a37e-4e61-ff85-c103fe9bf699"
   },
   "outputs": [
    {
     "data": {
      "text/plain": [
       "Row(user_id='10000', product_id=41570, Times_Bought_N=1, u_total_orders='9', first_order_number='6', Order_Range_D=4.0)"
      ]
     },
     "execution_count": 19,
     "metadata": {
      "tags": []
     },
     "output_type": "execute_result"
    }
   ],
   "source": [
    "uxp_ratio = times_bought_df.join(span_df, on=['user_id', 'product_id'], how='left')\n",
    "uxp_ratio.show()"
   ]
  },
  {
   "cell_type": "markdown",
   "metadata": {
    "id": "g8vnmwgst-qy"
   },
   "source": [
    "2.3.2.3.b Perform the final division\n",
    "Here we divide the Times_Bought_N by the Order_Range_D for each user and product."
   ]
  },
  {
   "cell_type": "code",
   "execution_count": null,
   "metadata": {
    "colab": {
     "base_uri": "https://localhost:8080/",
     "height": 34
    },
    "id": "07Ku0NV4uASq",
    "outputId": "1e90e0f9-155b-42a6-e876-73d1a82a6175"
   },
   "outputs": [
    {
     "data": {
      "text/plain": [
       "Row(user_id='10000', product_id=41570, Times_Bought_N=1, u_total_orders='9', first_order_number='6', Order_Range_D=4.0, uxp_reorder_ratio=0.25)"
      ]
     },
     "execution_count": 20,
     "metadata": {
      "tags": []
     },
     "output_type": "execute_result"
    }
   ],
   "source": [
    "uxp_ratio = uxp_ratio.withColumn('uxp_reorder_ratio', uxp_ratio.Times_Bought_N / uxp_ratio.Order_Range_D) ##\n",
    "uxp_ratio.show()"
   ]
  },
  {
   "cell_type": "markdown",
   "metadata": {
    "id": "hZeofSj-vsIw"
   },
   "source": [
    "**2.3.2.3.c Keep the final feature**\n",
    "We select to keep only the 'user_id', 'product_id' and the final feature 'uxp_reorder_ratio'"
   ]
  },
  {
   "cell_type": "code",
   "execution_count": null,
   "metadata": {
    "colab": {
     "base_uri": "https://localhost:8080/",
     "height": 34
    },
    "id": "9Ymabuhevyep",
    "outputId": "992b0d47-2425-4483-c9f6-f954086f82d5"
   },
   "outputs": [
    {
     "data": {
      "text/plain": [
       "Row(user_id='10000', product_id=41570, uxp_reorder_ratio=0.25)"
      ]
     },
     "execution_count": 21,
     "metadata": {
      "tags": []
     },
     "output_type": "execute_result"
    }
   ],
   "source": [
    "uxp_ratio = uxp_ratio.drop('Times_Bought_N', 'u_total_orders', 'first_order_number', 'Order_Range_D')\n",
    "uxp_ratio.show()"
   ]
  },
  {
   "cell_type": "code",
   "execution_count": null,
   "metadata": {
    "id": "qvoNLs1Pv5G3"
   },
   "outputs": [],
   "source": []
  },
  {
   "cell_type": "markdown",
   "metadata": {
    "id": "0e43knZFv68d"
   },
   "source": [
    "**2.3.2.4 Merge the final feature with uxp DataFrame**\n",
    "The new feature will be merged with the uxp DataFrame (section 2.3.1) which keep all the features based on combinations of user-products. We perform a left join as we want to keep all the user-products that we have created on the uxp DataFrame.\n",
    "\n",
    "<figure>\n",
    "<center>\n",
    "<img src='https://i.imgur.com/hPJXBuB.jpg', width=\"260\" height=\"150\"/>\n",
    "<figcaption>Image Caption</figcaption></center>\n",
    "</figure>"
   ]
  },
  {
   "cell_type": "code",
   "execution_count": null,
   "metadata": {
    "colab": {
     "base_uri": "https://localhost:8080/",
     "height": 34
    },
    "id": "8O600t5TwFrF",
    "outputId": "97e815aa-0f04-465e-9200-1443544539e5"
   },
   "outputs": [
    {
     "data": {
      "text/plain": [
       "Row(user_id='10000', product_id=41570, uxp_total_bought=1, uxp_reorder_ratio=0.25)"
      ]
     },
     "execution_count": 22,
     "metadata": {
      "tags": []
     },
     "output_type": "execute_result"
    }
   ],
   "source": [
    "uxp_df = uxp.join(uxp_ratio, on=['user_id', 'product_id'], how='left')\n",
    "uxp_df.show()"
   ]
  },
  {
   "cell_type": "code",
   "execution_count": null,
   "metadata": {
    "id": "Qt3QEZMNxOJp"
   },
   "outputs": [],
   "source": [
    "del uxp_ratio"
   ]
  },
  {
   "cell_type": "markdown",
   "metadata": {
    "id": "fLnTArRpoIlY"
   },
   "source": []
  },
  {
   "cell_type": "markdown",
   "metadata": {
    "id": "WgRrys_KSDk3"
   },
   "source": [
    "## 2.4 Merge all features  \n",
    "We now merge the RDDs/DataFrames with the three types of predictors that we have created (i.e., for the users, the products and the combinations of users and products).\n",
    "\n",
    "We will start from the uxp RDD/DataFrame and we will add the user and prd DataFrames. We do so because we want our final DataFrame (which will be called data) to have the following structure:\n",
    "\n",
    "\n",
    "<figure>\n",
    "<center>\n",
    "<img src='https://i.imgur.com/mI5BbFE.jpg', width=\"800\" height=\"400\"/>\n",
    "<figcaption>Image Caption</figcaption></center>\n",
    "</figure>\n",
    "\n",
    "2.4.1 Merge uxp with user DataFrame\n",
    "Here we select to perform a left join of uxp with user DataFrame based on matching key \"user_id\"\n",
    "\n",
    "\n",
    "<figure>\n",
    "<center>\n",
    "<img src='https://i.imgur.com/WlI84Ud.jpg', width=\"260\" height=\"150\"/>\n",
    "<figcaption>Image Caption</figcaption></center>\n",
    "</figure>\n",
    "\n",
    "Left join, ensures that the new DataFrame will have:\n",
    "\n",
    "* all the observations of the uxp (combination of user and products) DataFrame\n",
    "* all the matching observations of user DataFrame with uxp based on matching key \"user_id\"\n",
    "The new DataFrame as we have already mentioned, will be called data."
   ]
  },
  {
   "cell_type": "code",
   "execution_count": null,
   "metadata": {
    "colab": {
     "base_uri": "https://localhost:8080/",
     "height": 34
    },
    "id": "L1RHHPCuEEea",
    "outputId": "d2c1ff8b-6a3c-4256-95ec-c37690c6bc27"
   },
   "outputs": [
    {
     "data": {
      "text/plain": [
       "Row(user_id='100010', product_id=1447, uxp_total_bought=4, uxp_reorder_ratio=0.4444444444444444, u_total_orders='9', u_reordered_ratio=0.42)"
      ]
     },
     "execution_count": 24,
     "metadata": {
      "tags": []
     },
     "output_type": "execute_result"
    }
   ],
   "source": [
    "#Merge uxp features with the user features\n",
    "#Store the results on a new DataFrame\n",
    "data = uxp_df.join(user_df, on='user_id', how='left')\n",
    "data.show()"
   ]
  },
  {
   "cell_type": "markdown",
   "metadata": {
    "id": "jPC8aJKGS4Q7"
   },
   "source": [
    "**2.4.1 Merge data with prd DataFrame**  \n",
    "In this step we continue with our new DataFrame data and we perform a left join with prd DataFrame. The matching key here is the \"product_id\".\n",
    "\n",
    "<figure>\n",
    "<center>\n",
    "<img src='https://i.imgur.com/Iak6nIz.jpg', width=\"260\" height=\"150\"/>\n",
    "<figcaption>Image Caption</figcaption></center>\n",
    "</figure>\n",
    "\n",
    "Left join, ensures that the new DataFrame will have:\n",
    "\n",
    "* all the observations of the data (features of userXproducts and users) DataFrame\n",
    "* all the matching observations of prd DataFrame with data based on matching key \"product_id\"\n",
    "\n"
   ]
  },
  {
   "cell_type": "code",
   "execution_count": null,
   "metadata": {
    "colab": {
     "base_uri": "https://localhost:8080/",
     "height": 122
    },
    "id": "B3TzoHDqS3um",
    "outputId": "5d39277b-3ded-43f4-f1a9-d6e007e82bd4"
   },
   "outputs": [
    {
     "data": {
      "text/plain": [
       "[Row(product_id=148, user_id='100227', uxp_total_bought=1, uxp_reorder_ratio=0.25, u_total_orders='7', u_reordered_ratio=0.48, p_total_purchases=4903),\n",
       " Row(product_id=148, user_id='143293', uxp_total_bought=1, uxp_reorder_ratio=0.3333333333333333, u_total_orders='9', u_reordered_ratio=0.55, p_total_purchases=4903),\n",
       " Row(product_id=148, user_id='143443', uxp_total_bought=1, uxp_reorder_ratio=-0.037037037037037035, u_total_orders='9', u_reordered_ratio=0.67, p_total_purchases=4903),\n",
       " Row(product_id=148, user_id='144481', uxp_total_bought=2, uxp_reorder_ratio=0.5, u_total_orders='9', u_reordered_ratio=0.63, p_total_purchases=4903),\n",
       " Row(product_id=148, user_id='145015', uxp_total_bought=1, uxp_reorder_ratio=0.16666666666666666, u_total_orders='9', u_reordered_ratio=0.31, p_total_purchases=4903)]"
      ]
     },
     "execution_count": 25,
     "metadata": {
      "tags": []
     },
     "output_type": "execute_result"
    }
   ],
   "source": [
    "#Merge uxp & user features (the new DataFrame) with prd features\n",
    "data = data.join(prd_df, on='product_id', how='left')\n",
    "data.show(5)"
   ]
  },
  {
   "cell_type": "code",
   "execution_count": null,
   "metadata": {
    "id": "xeA_OB7HUSaU"
   },
   "outputs": [],
   "source": [
    "#Delete temporary user DataFrames\n",
    "#del u_reorder_df\n",
    "#del user_df\n",
    "#delete temporary product dataframe\n",
    "#del p_reorder_df\n",
    "#del prd_df\n",
    "#delete temporary user+product DataFrames\n",
    "#del times_bought_df\n",
    "#del total_orders_df\n",
    "#del first_order_df\n",
    "#del span_df"
   ]
  },
  {
   "cell_type": "markdown",
   "metadata": {
    "id": "L9kIxs6tXrYN"
   },
   "source": [
    "# 3. Create train and test DataFrames\n",
    "\n",
    "**3.1 Include information about the last order of each user**  \n",
    "The data DataFrame that we have created on the previous chapter (2.4) should include two more columns which define the type of user (train or test) and the order_id of the future order. This information can be found on the initial orders DataFrame which was provided by Instacart:\n",
    "\n",
    "<figure>\n",
    "<center>\n",
    "<img src='https://i.imgur.com/PDu2vfR.jpg', width=\"800\" height=\"400\"/>\n",
    "<figcaption>Image Caption</figcaption></center>\n",
    "</figure>\n",
    "\n",
    "Towards this end:  \n",
    "\n",
    "1. We select the orders DataFrame to keep only the future orders (labeled as \"train\" & \"test).  \n",
    "2. Keep only the columns of our desire ['eval_set', 'order_id'] **AND** 'user_id' as is the matching key with our data DataFrame  \n",
    "3. Merge data DataFrame with the information for the future order of each customer using as matching key the 'user_id'  \n",
    "\n",
    "To filter and select the columns of our desire on orders (the 2 first steps) there are numerous approaches:"
   ]
  },
  {
   "cell_type": "code",
   "execution_count": null,
   "metadata": {
    "colab": {
     "base_uri": "https://localhost:8080/",
     "height": 102
    },
    "id": "wncEYo7WYDbc",
    "outputId": "085ab6b1-d7b2-4bb7-ae77-cf2664348624"
   },
   "outputs": [
    {
     "data": {
      "text/plain": [
       "[Row(user_id='1', eval_set='train', order_id=1187899),\n",
       " Row(user_id='2', eval_set='train', order_id=1492625),\n",
       " Row(user_id='3', eval_set='test', order_id=2774568),\n",
       " Row(user_id='4', eval_set='test', order_id=329954),\n",
       " Row(user_id='5', eval_set='train', order_id=2196797)]"
      ]
     },
     "execution_count": 27,
     "metadata": {
      "tags": []
     },
     "output_type": "execute_result"
    }
   ],
   "source": [
    "# In two steps keep only the future orders from all customers: train & test \n",
    "orders_future = df_orders.filter(F.col('eval_set').isin(['train','test']))\n",
    "orders_future = orders_future.select('user_id', 'eval_set', 'order_id')\n",
    "orders_future.take(5)"
   ]
  },
  {
   "cell_type": "markdown",
   "metadata": {
    "id": "Ilj_-cWeaVT8"
   },
   "source": [
    "To fulfill step 3, we merge on data DataFrame the information for the last order of each customer. The matching key here is the user_id and we select a left join as we want to keep all the observations from data DataFrame.\n",
    "\n",
    "\n",
    "<figure>\n",
    "<center>\n",
    "<img src='https://i.imgur.com/m3pNVDW.jpg', width=\"260\" height=\"150\"/>\n",
    "<figcaption>Image Caption</figcaption></center>\n",
    "</figure>"
   ]
  },
  {
   "cell_type": "code",
   "execution_count": null,
   "metadata": {
    "colab": {
     "base_uri": "https://localhost:8080/",
     "height": 289
    },
    "id": "5vbBW0zSacae",
    "outputId": "de9bcd28-e5d5-4b8c-92c8-4d8661393b5f"
   },
   "outputs": [
    {
     "name": "stdout",
     "output_type": "stream",
     "text": [
      "+-------+----------+----------------+------------------+--------------+-----------------+-----------------+--------+--------+\n",
      "|user_id|product_id|uxp_total_bought| uxp_reorder_ratio|u_total_orders|u_reordered_ratio|p_total_purchases|eval_set|order_id|\n",
      "+-------+----------+----------------+------------------+--------------+-----------------+-----------------+--------+--------+\n",
      "| 100010|     25283|               1|               0.5|             9|             0.42|              744|    test|  339079|\n",
      "| 100010|      4391|               1|               1.0|             9|             0.42|              589|    test|  339079|\n",
      "| 100010|      3042|               2|              0.25|             9|             0.42|             1287|    test|  339079|\n",
      "| 100010|      7222|               1|             0.125|             9|             0.42|              290|    test|  339079|\n",
      "| 100010|     34735|               1|0.1111111111111111|             9|             0.42|              498|    test|  339079|\n",
      "| 100010|     22275|               1|0.3333333333333333|             9|             0.42|             3537|    test|  339079|\n",
      "| 100010|     44142|               1|              -1.0|             9|             0.42|            43009|    test|  339079|\n",
      "| 100010|     14999|               6|0.6666666666666666|             9|             0.42|             6388|    test|  339079|\n",
      "| 100010|     47209|               2|              -2.0|             9|             0.42|           213584|    test|  339079|\n",
      "| 100010|     31573|               1|0.1111111111111111|             9|             0.42|             1847|    test|  339079|\n",
      "+-------+----------+----------------+------------------+--------------+-----------------+-----------------+--------+--------+\n",
      "only showing top 10 rows\n",
      "\n"
     ]
    }
   ],
   "source": [
    "# bring the info of the future orders to data DF\n",
    "data = data.join(orders_future, on='user_id', how='left')\n",
    "data.take(10)"
   ]
  },
  {
   "cell_type": "markdown",
   "metadata": {
    "id": "9M-YBllSaq_Z"
   },
   "source": [
    "**3.2 Prepare the train DataFrame**  \n",
    "In order to prepare the train Dataset, which will be used to create our prediction model, we need to include also the response (Y) and thus have the following structure:\n",
    "\n",
    "Towards this end:\n",
    "\n",
    "1. We keep only the customers who are labelled as \"train\" from the competition\n",
    "2. For these customers we get from order_products_train the products that they have bought, in order to create the response variable (reordered:1 or 0)\n",
    "3. We make all the required manipulations on that dataset and we remove the columns that are not predictors. \n",
    "\n",
    "So now we filter the data DataFrame so to keep only the train users:\n",
    "\n"
   ]
  },
  {
   "cell_type": "code",
   "execution_count": null,
   "metadata": {
    "colab": {
     "base_uri": "https://localhost:8080/",
     "height": 204
    },
    "id": "yiVQuaJwavG1",
    "outputId": "6082598a-a9b6-40c7-97f0-7bb4e4b1e620"
   },
   "outputs": [
    {
     "name": "stdout",
     "output_type": "stream",
     "text": [
      "+-------+----------+----------------+------------------+--------------+-----------------+-----------------+--------+--------+\n",
      "|user_id|product_id|uxp_total_bought| uxp_reorder_ratio|u_total_orders|u_reordered_ratio|p_total_purchases|eval_set|order_id|\n",
      "+-------+----------+----------------+------------------+--------------+-----------------+-----------------+--------+--------+\n",
      "| 100140|     22227|               1|0.3333333333333333|             3|             0.13|             4685|   train| 1881518|\n",
      "| 100140|     27156|               1|0.3333333333333333|             3|             0.13|            38001|   train| 1881518|\n",
      "| 100140|     49175|               1|0.3333333333333333|             3|             0.13|            10829|   train| 1881518|\n",
      "| 100140|     18027|               1|               1.0|             3|             0.13|            17789|   train| 1881518|\n",
      "| 100140|       432|               2|0.6666666666666666|             3|             0.13|            30935|   train| 1881518|\n",
      "+-------+----------+----------------+------------------+--------------+-----------------+-----------------+--------+--------+\n",
      "only showing top 5 rows\n",
      "\n"
     ]
    }
   ],
   "source": [
    "#Keep only the customers who we know what they bought in their future order\n",
    "data_train = data.filter(data.eval_set == 'train')\n",
    "data_train.take(5)"
   ]
  },
  {
   "cell_type": "markdown",
   "metadata": {
    "id": "1i56S3XLbBQx"
   },
   "source": [
    "For these customers we get from order_products_train the products that they have bought. The matching keys are here two: the \"product_id\" & \"order_id\". A left join keeps all the observations from data_train DataFrame.\n",
    "\n",
    "<figure>\n",
    "<center>\n",
    "<img src='https://i.imgur.com/kndys9d.jpg', width=\"300\" height=\"170\"/>\n",
    "<figcaption>Image Caption</figcaption></center>\n",
    "</figure>"
   ]
  },
  {
   "cell_type": "code",
   "execution_count": null,
   "metadata": {
    "colab": {
     "base_uri": "https://localhost:8080/",
     "height": 374
    },
    "id": "6ugf3aKAbPyj",
    "outputId": "cc126c0b-865d-4812-a332-06d315e6e778"
   },
   "outputs": [
    {
     "name": "stdout",
     "output_type": "stream",
     "text": [
      "+----------+--------+-------+----------------+--------------------+--------------+-----------------+-----------------+--------+---------+\n",
      "|product_id|order_id|user_id|uxp_total_bought|   uxp_reorder_ratio|u_total_orders|u_reordered_ratio|p_total_purchases|eval_set|reordered|\n",
      "+----------+--------+-------+----------------+--------------------+--------------+-----------------+-----------------+--------+---------+\n",
      "|         1| 3032229|  31500|               1|  0.3333333333333333|             9|             0.75|             1852|   train|     null|\n",
      "|         3|  228620| 188068|               1|               0.125|             9|             0.55|              277|   train|     null|\n",
      "|         7| 2435279|  50414|               1|                -0.5|             9|             0.56|               30|   train|     null|\n",
      "|         9| 1056575|  65966|               1|  0.1111111111111111|             9|             0.54|              156|   train|     null|\n",
      "|         9| 1922156| 151017|               3|  0.3333333333333333|             9|             0.65|              156|   train|     null|\n",
      "|        10|  274163|   9410|               1|-0.02439024390243...|             9|             0.78|             2572|   train|        1|\n",
      "|        10|  324147| 142969|               1|                 0.5|             9|             0.26|             2572|   train|     null|\n",
      "|        10|  420415| 162023|               1|                -0.5|             9|             0.49|             2572|   train|     null|\n",
      "|        10|  518410| 193284|               1| -0.1111111111111111|             9|             0.36|             2572|   train|     null|\n",
      "|        10| 1344454|  67447|               3| 0.42857142857142855|             8|             0.43|             2572|   train|        1|\n",
      "|        10| 2339813| 166932|               1|                 1.0|             3|             0.38|             2572|   train|     null|\n",
      "|        10| 2368379|  74720|               3|                -1.5|             9|             0.62|             2572|   train|        1|\n",
      "|        18|  253901| 119707|               1|                 0.5|             9|             0.86|              137|   train|     null|\n",
      "|        23|  624990| 194123|               1|  0.1111111111111111|             9|             0.32|             1068|   train|     null|\n",
      "|        23|  699982| 134415|               2|                0.25|             9|             0.74|             1068|   train|     null|\n",
      "+----------+--------+-------+----------------+--------------------+--------------+-----------------+-----------------+--------+---------+\n",
      "only showing top 15 rows\n",
      "\n"
     ]
    }
   ],
   "source": [
    "#Get from order_products_train all the products that the train users bought in their future order\n",
    "data_train = data_train.join(df_ord_train[['product_id','order_id', 'reordered']], on=['product_id','order_id'], how='left' )\n",
    "data_train.take(15)"
   ]
  },
  {
   "cell_type": "markdown",
   "metadata": {
    "id": "ytEMOLNOaUAS"
   },
   "source": [
    "On the last columm (reordered) you can find out our response (y). There are combinations of User X Product which they were reordered (1) on last order where other were not (NaN value).  \n",
    "\n",
    "Now we manipulate the data_train DataFrame, to bring it into a structure for Machine Learning (X1,X2,....,Xn, y):  \n",
    "\n",
    "* Fill NaN values with value zero (regards reordered rows without value = 1)"
   ]
  },
  {
   "cell_type": "code",
   "execution_count": null,
   "metadata": {
    "colab": {
     "base_uri": "https://localhost:8080/",
     "height": 122
    },
    "id": "z2hhLgDVbuJ_",
    "outputId": "111da142-9c63-439f-fc74-a7ddcbcf3db8"
   },
   "outputs": [
    {
     "data": {
      "text/plain": [
       "[Row(product_id=1, order_id=3032229, user_id='31500', uxp_total_bought=1, uxp_reorder_ratio=0.3333333333333333, u_total_orders='9', u_reordered_ratio=0.75, p_total_purchases=1852, eval_set='train', reordered='0'),\n",
       " Row(product_id=3, order_id=228620, user_id='188068', uxp_total_bought=1, uxp_reorder_ratio=0.125, u_total_orders='9', u_reordered_ratio=0.55, p_total_purchases=277, eval_set='train', reordered='0'),\n",
       " Row(product_id=7, order_id=2435279, user_id='50414', uxp_total_bought=1, uxp_reorder_ratio=-0.5, u_total_orders='9', u_reordered_ratio=0.56, p_total_purchases=30, eval_set='train', reordered='0'),\n",
       " Row(product_id=9, order_id=1056575, user_id='65966', uxp_total_bought=1, uxp_reorder_ratio=0.1111111111111111, u_total_orders='9', u_reordered_ratio=0.54, p_total_purchases=156, eval_set='train', reordered='0'),\n",
       " Row(product_id=9, order_id=1922156, user_id='151017', uxp_total_bought=3, uxp_reorder_ratio=0.3333333333333333, u_total_orders='9', u_reordered_ratio=0.65, p_total_purchases=156, eval_set='train', reordered='0')]"
      ]
     },
     "execution_count": 31,
     "metadata": {
      "tags": []
     },
     "output_type": "execute_result"
    }
   ],
   "source": [
    "#Where the previous merge, left a NaN value on reordered column means that the customers they haven't bought the product. We change the value on them to 0.\n",
    "data_train  = data_train.fillna({'reordered':'0'}) \n",
    "data_train.take(5)"
   ]
  },
  {
   "cell_type": "markdown",
   "metadata": {
    "id": "ErTOkV9qbx88"
   },
   "source": [
    "* Set as index the column(s) that describe uniquely each row (in our case \"user_id\" & \"product_id\")"
   ]
  },
  {
   "cell_type": "code",
   "execution_count": null,
   "metadata": {
    "id": "8ogjLtPHb0BF"
   },
   "outputs": [],
   "source": [
    "#We set user_id and product_id as the index of the DF\n",
    "#data_train = data_train.set_index(['user_id', 'product_id'])\n",
    "#data_train.head(15)"
   ]
  },
  {
   "cell_type": "markdown",
   "metadata": {
    "id": "JbL_hIefb1ec"
   },
   "source": [
    "* Remove columns which are not predictors (in our case: 'eval_set','order_id')"
   ]
  },
  {
   "cell_type": "code",
   "execution_count": null,
   "metadata": {
    "colab": {
     "base_uri": "https://localhost:8080/",
     "height": 204
    },
    "id": "TjbfJvV8b2tu",
    "outputId": "170def07-dd2e-4374-9389-8821b8b158ba"
   },
   "outputs": [
    {
     "name": "stdout",
     "output_type": "stream",
     "text": [
      "+----------+-------+----------------+------------------+--------------+-----------------+-----------------+---------+\n",
      "|product_id|user_id|uxp_total_bought| uxp_reorder_ratio|u_total_orders|u_reordered_ratio|p_total_purchases|reordered|\n",
      "+----------+-------+----------------+------------------+--------------+-----------------+-----------------+---------+\n",
      "|         1|  31500|               1|0.3333333333333333|             9|             0.75|             1852|        0|\n",
      "|         3| 188068|               1|             0.125|             9|             0.55|              277|        0|\n",
      "|         7|  50414|               1|              -0.5|             9|             0.56|               30|        0|\n",
      "|         9|  65966|               1|0.1111111111111111|             9|             0.54|              156|        0|\n",
      "|         9| 151017|               3|0.3333333333333333|             9|             0.65|              156|        0|\n",
      "+----------+-------+----------------+------------------+--------------+-----------------+-----------------+---------+\n",
      "only showing top 5 rows\n",
      "\n"
     ]
    }
   ],
   "source": [
    "#We remove all non-predictor variables\n",
    "data_train = data_train.drop('eval_set','order_id')\n",
    "data_train.take(5)"
   ]
  },
  {
   "cell_type": "markdown",
   "metadata": {
    "id": "XVlGwxWWb4ga"
   },
   "source": [
    "**3.3 Prepare the test DataFrame**  \n",
    "The test DataFrame must have the same structure as the train DataFrame, excluding the \"reordered\" column (as it is the label that we want to predict).\n",
    "\n",
    "To create it, we:\n",
    "* Keep only the customers who are labelled as test"
   ]
  },
  {
   "cell_type": "code",
   "execution_count": null,
   "metadata": {
    "colab": {
     "base_uri": "https://localhost:8080/",
     "height": 204
    },
    "id": "3tMtPWdOb974",
    "outputId": "1ca8a315-f8d2-4524-f6b8-4c3f72a261ad"
   },
   "outputs": [
    {
     "name": "stdout",
     "output_type": "stream",
     "text": [
      "+-------+----------+----------------+------------------+--------------+-----------------+-----------------+--------+--------+\n",
      "|user_id|product_id|uxp_total_bought| uxp_reorder_ratio|u_total_orders|u_reordered_ratio|p_total_purchases|eval_set|order_id|\n",
      "+-------+----------+----------------+------------------+--------------+-----------------+-----------------+--------+--------+\n",
      "| 100010|     25283|               1|               0.5|             9|             0.42|              744|    test|  339079|\n",
      "| 100010|      4391|               1|               1.0|             9|             0.42|              589|    test|  339079|\n",
      "| 100010|      3042|               2|              0.25|             9|             0.42|             1287|    test|  339079|\n",
      "| 100010|      7222|               1|             0.125|             9|             0.42|              290|    test|  339079|\n",
      "| 100010|     34735|               1|0.1111111111111111|             9|             0.42|              498|    test|  339079|\n",
      "+-------+----------+----------------+------------------+--------------+-----------------+-----------------+--------+--------+\n",
      "only showing top 5 rows\n",
      "\n"
     ]
    }
   ],
   "source": [
    "#Keep only the future orders from customers who are labelled as test\n",
    "data_test = data.filter(data.eval_set == 'test') \n",
    "data_test.take(5)"
   ]
  },
  {
   "cell_type": "markdown",
   "metadata": {
    "id": "Ai6f4Xg7cKMU"
   },
   "source": [
    "* Set as index the column(s) that uniquely describe each row (in our case \"user_id\" & \"product_id\")"
   ]
  },
  {
   "cell_type": "code",
   "execution_count": null,
   "metadata": {
    "id": "_Kh1R2yjcLyW"
   },
   "outputs": [],
   "source": [
    "#We set user_id and product_id as the index of the DF\n",
    "#data_test = data_test.set_index(['user_id', 'product_id'])\n",
    "#data_test.head()"
   ]
  },
  {
   "cell_type": "markdown",
   "metadata": {
    "id": "9grYwLRicNq9"
   },
   "source": [
    "* Remove the columns that are predictors (in our case:'eval_set', 'order_id')"
   ]
  },
  {
   "cell_type": "code",
   "execution_count": null,
   "metadata": {
    "colab": {
     "base_uri": "https://localhost:8080/",
     "height": 122
    },
    "id": "zEhjgJgpcQMe",
    "outputId": "1d726f28-f987-49fb-8d04-040d42b2f645"
   },
   "outputs": [
    {
     "data": {
      "text/plain": [
       "[Row(user_id='100010', product_id=25283, uxp_total_bought=1, uxp_reorder_ratio=0.5, u_total_orders='9', u_reordered_ratio=0.42, p_total_purchases=744),\n",
       " Row(user_id='100010', product_id=4391, uxp_total_bought=1, uxp_reorder_ratio=1.0, u_total_orders='9', u_reordered_ratio=0.42, p_total_purchases=589),\n",
       " Row(user_id='100010', product_id=3042, uxp_total_bought=2, uxp_reorder_ratio=0.25, u_total_orders='9', u_reordered_ratio=0.42, p_total_purchases=1287),\n",
       " Row(user_id='100010', product_id=7222, uxp_total_bought=1, uxp_reorder_ratio=0.125, u_total_orders='9', u_reordered_ratio=0.42, p_total_purchases=290),\n",
       " Row(user_id='100010', product_id=34735, uxp_total_bought=1, uxp_reorder_ratio=0.1111111111111111, u_total_orders='9', u_reordered_ratio=0.42, p_total_purchases=498)]"
      ]
     },
     "execution_count": 36,
     "metadata": {
      "tags": []
     },
     "output_type": "execute_result"
    }
   ],
   "source": [
    "#We remove all non-predictor variables\n",
    "data_test = data_test.drop('eval_set','order_id')\n",
    "#Check if the data_test DF, has the same number of columns as the data_train DF, excluding the response variable\n",
    "data_test.take(5)"
   ]
  },
  {
   "cell_type": "code",
   "execution_count": null,
   "metadata": {
    "colab": {
     "base_uri": "https://localhost:8080/",
     "height": 34
    },
    "id": "VD3XW8pmEi_Z",
    "outputId": "96f61532-7351-4651-8218-420cc10cb771"
   },
   "outputs": [
    {
     "data": {
      "text/plain": [
       "pyspark.sql.dataframe.DataFrame"
      ]
     },
     "execution_count": 65,
     "metadata": {
      "tags": []
     },
     "output_type": "execute_result"
    }
   ],
   "source": [
    "type(data_test)"
   ]
  },
  {
   "cell_type": "markdown",
   "metadata": {
    "id": "D1hp73kEOHBL"
   },
   "source": [
    "## 4.  Exploring / Visualizing our data \n",
    "This will allow us to find patterns and trends.  \n",
    "\n",
    "\n"
   ]
  },
  {
   "cell_type": "code",
   "execution_count": null,
   "metadata": {
    "colab": {
     "base_uri": "https://localhost:8080/",
     "height": 204
    },
    "id": "WEw8xOu_DFqX",
    "outputId": "342ea5b1-28a4-4710-d459-4ad184a9f339"
   },
   "outputs": [
    {
     "name": "stdout",
     "output_type": "stream",
     "text": [
      "+----------+-----------------+--------------------+--------+-------------+\n",
      "|product_id|p_total_purchases|        product_name|aisle_id|department_id|\n",
      "+----------+-----------------+--------------------+--------+-------------+\n",
      "|     41890|             1949|Organic Mesa Sunr...|     121|           14|\n",
      "|      8592|              990|Kale, Apple, Ging...|      31|            7|\n",
      "|     29228|              547|Original Traditio...|      72|           13|\n",
      "|     40386|             2708|Major Dickason's ...|      26|            7|\n",
      "|     42834|             1800|Organic Mini Peel...|     123|            4|\n",
      "+----------+-----------------+--------------------+--------+-------------+\n",
      "only showing top 5 rows\n",
      "\n"
     ]
    }
   ],
   "source": [
    "# join prd_df with df_product to fetch the name of each product and select only necessary columns\n",
    "prd_top20 = prd_df.join(df_products,on=['product_id'], how='inner') #generates Dataframe\n",
    "prd_top20.show(5)"
   ]
  },
  {
   "cell_type": "code",
   "execution_count": null,
   "metadata": {
    "colab": {
     "base_uri": "https://localhost:8080/",
     "height": 204
    },
    "id": "aD3FoNnZPHUc",
    "outputId": "4c3a804e-c30f-4ba5-902b-89aa791f11b7"
   },
   "outputs": [
    {
     "name": "stdout",
     "output_type": "stream",
     "text": [
      "+-------------+----------+-----------------+--------------------+--------+----------+\n",
      "|department_id|product_id|p_total_purchases|        product_name|aisle_id|department|\n",
      "+-------------+----------+-----------------+--------------------+--------+----------+\n",
      "|           14|     41890|             1949|Organic Mesa Sunr...|     121| breakfast|\n",
      "|            7|      8592|              990|Kale, Apple, Ging...|      31| beverages|\n",
      "|           13|     29228|              547|Original Traditio...|      72|    pantry|\n",
      "|            7|     40386|             2708|Major Dickason's ...|      26| beverages|\n",
      "|            4|     42834|             1800|Organic Mini Peel...|     123|   produce|\n",
      "+-------------+----------+-----------------+--------------------+--------+----------+\n",
      "only showing top 5 rows\n",
      "\n"
     ]
    }
   ],
   "source": [
    "# join df_product with Department ID to fetch Department Name\n",
    "prd_top20 = prd_top20.join(df_dept,on=['department_id'], how='inner') #generates Dataframe\n",
    "prd_top20.show(5)"
   ]
  },
  {
   "cell_type": "code",
   "execution_count": null,
   "metadata": {
    "colab": {
     "base_uri": "https://localhost:8080/",
     "height": 204
    },
    "id": "bQfNjDakSzhf",
    "outputId": "df054e23-fa12-4419-d0aa-6a292d3e95df"
   },
   "outputs": [
    {
     "name": "stdout",
     "output_type": "stream",
     "text": [
      "+--------+-------------+----------+-----------------+--------------------+----------+--------------------+\n",
      "|aisle_id|department_id|product_id|p_total_purchases|        product_name|department|               aisle|\n",
      "+--------+-------------+----------+-----------------+--------------------+----------+--------------------+\n",
      "|     121|           14|     41890|             1949|Organic Mesa Sunr...| breakfast|              cereal|\n",
      "|      31|            7|      8592|              990|Kale, Apple, Ging...| beverages|        refrigerated|\n",
      "|      72|           13|     29228|              547|Original Traditio...|    pantry|          condiments|\n",
      "|      26|            7|     40386|             2708|Major Dickason's ...| beverages|              coffee|\n",
      "|     123|            4|     42834|             1800|Organic Mini Peel...|   produce|packaged vegetabl...|\n",
      "+--------+-------------+----------+-----------------+--------------------+----------+--------------------+\n",
      "only showing top 5 rows\n",
      "\n"
     ]
    }
   ],
   "source": [
    "# join prd_df with df_aisles to fetch the name of each product and select only necessary columns\n",
    "prd_top20 = prd_top20.join(df_aisles,on=['aisle_id'], how='inner') #generates Dataframe\n",
    "prd_top20.show(5)"
   ]
  },
  {
   "cell_type": "code",
   "execution_count": null,
   "metadata": {
    "colab": {
     "base_uri": "https://localhost:8080/",
     "height": 669
    },
    "id": "5pFR-A49L8sP",
    "outputId": "16e79ac2-b106-4344-c2ad-0acc7b8ed379"
   },
   "outputs": [
    {
     "data": {
      "text/html": [
       "<div>\n",
       "<style scoped>\n",
       "    .dataframe tbody tr th:only-of-type {\n",
       "        vertical-align: middle;\n",
       "    }\n",
       "\n",
       "    .dataframe tbody tr th {\n",
       "        vertical-align: top;\n",
       "    }\n",
       "\n",
       "    .dataframe thead th {\n",
       "        text-align: right;\n",
       "    }\n",
       "</style>\n",
       "<table border=\"1\" class=\"dataframe\">\n",
       "  <thead>\n",
       "    <tr style=\"text-align: right;\">\n",
       "      <th></th>\n",
       "      <th>aisle_id</th>\n",
       "      <th>department_id</th>\n",
       "      <th>product_id</th>\n",
       "      <th>p_total_purchases</th>\n",
       "      <th>product_name</th>\n",
       "      <th>department</th>\n",
       "      <th>aisle</th>\n",
       "    </tr>\n",
       "  </thead>\n",
       "  <tbody>\n",
       "    <tr>\n",
       "      <th>0</th>\n",
       "      <td>24</td>\n",
       "      <td>4</td>\n",
       "      <td>24852</td>\n",
       "      <td>472565</td>\n",
       "      <td>Banana</td>\n",
       "      <td>produce</td>\n",
       "      <td>fresh fruits</td>\n",
       "    </tr>\n",
       "    <tr>\n",
       "      <th>1</th>\n",
       "      <td>24</td>\n",
       "      <td>4</td>\n",
       "      <td>13176</td>\n",
       "      <td>379450</td>\n",
       "      <td>Bag of Organic Bananas</td>\n",
       "      <td>produce</td>\n",
       "      <td>fresh fruits</td>\n",
       "    </tr>\n",
       "    <tr>\n",
       "      <th>2</th>\n",
       "      <td>24</td>\n",
       "      <td>4</td>\n",
       "      <td>21137</td>\n",
       "      <td>264683</td>\n",
       "      <td>Organic Strawberries</td>\n",
       "      <td>produce</td>\n",
       "      <td>fresh fruits</td>\n",
       "    </tr>\n",
       "    <tr>\n",
       "      <th>3</th>\n",
       "      <td>123</td>\n",
       "      <td>4</td>\n",
       "      <td>21903</td>\n",
       "      <td>241921</td>\n",
       "      <td>Organic Baby Spinach</td>\n",
       "      <td>produce</td>\n",
       "      <td>packaged vegetables fruits</td>\n",
       "    </tr>\n",
       "    <tr>\n",
       "      <th>4</th>\n",
       "      <td>24</td>\n",
       "      <td>4</td>\n",
       "      <td>47209</td>\n",
       "      <td>213584</td>\n",
       "      <td>Organic Hass Avocado</td>\n",
       "      <td>produce</td>\n",
       "      <td>fresh fruits</td>\n",
       "    </tr>\n",
       "    <tr>\n",
       "      <th>5</th>\n",
       "      <td>24</td>\n",
       "      <td>4</td>\n",
       "      <td>47766</td>\n",
       "      <td>176815</td>\n",
       "      <td>Organic Avocado</td>\n",
       "      <td>produce</td>\n",
       "      <td>fresh fruits</td>\n",
       "    </tr>\n",
       "    <tr>\n",
       "      <th>6</th>\n",
       "      <td>24</td>\n",
       "      <td>4</td>\n",
       "      <td>47626</td>\n",
       "      <td>152657</td>\n",
       "      <td>Large Lemon</td>\n",
       "      <td>produce</td>\n",
       "      <td>fresh fruits</td>\n",
       "    </tr>\n",
       "    <tr>\n",
       "      <th>7</th>\n",
       "      <td>24</td>\n",
       "      <td>4</td>\n",
       "      <td>16797</td>\n",
       "      <td>142951</td>\n",
       "      <td>Strawberries</td>\n",
       "      <td>produce</td>\n",
       "      <td>fresh fruits</td>\n",
       "    </tr>\n",
       "    <tr>\n",
       "      <th>8</th>\n",
       "      <td>24</td>\n",
       "      <td>4</td>\n",
       "      <td>26209</td>\n",
       "      <td>140627</td>\n",
       "      <td>Limes</td>\n",
       "      <td>produce</td>\n",
       "      <td>fresh fruits</td>\n",
       "    </tr>\n",
       "    <tr>\n",
       "      <th>9</th>\n",
       "      <td>84</td>\n",
       "      <td>16</td>\n",
       "      <td>27845</td>\n",
       "      <td>137905</td>\n",
       "      <td>Organic Whole Milk</td>\n",
       "      <td>dairy eggs</td>\n",
       "      <td>milk</td>\n",
       "    </tr>\n",
       "    <tr>\n",
       "      <th>10</th>\n",
       "      <td>123</td>\n",
       "      <td>4</td>\n",
       "      <td>27966</td>\n",
       "      <td>137057</td>\n",
       "      <td>Organic Raspberries</td>\n",
       "      <td>produce</td>\n",
       "      <td>packaged vegetables fruits</td>\n",
       "    </tr>\n",
       "    <tr>\n",
       "      <th>11</th>\n",
       "      <td>83</td>\n",
       "      <td>4</td>\n",
       "      <td>22935</td>\n",
       "      <td>113426</td>\n",
       "      <td>Organic Yellow Onion</td>\n",
       "      <td>produce</td>\n",
       "      <td>fresh vegetables</td>\n",
       "    </tr>\n",
       "    <tr>\n",
       "      <th>12</th>\n",
       "      <td>83</td>\n",
       "      <td>4</td>\n",
       "      <td>24964</td>\n",
       "      <td>109778</td>\n",
       "      <td>Organic Garlic</td>\n",
       "      <td>produce</td>\n",
       "      <td>fresh vegetables</td>\n",
       "    </tr>\n",
       "    <tr>\n",
       "      <th>13</th>\n",
       "      <td>83</td>\n",
       "      <td>4</td>\n",
       "      <td>45007</td>\n",
       "      <td>104823</td>\n",
       "      <td>Organic Zucchini</td>\n",
       "      <td>produce</td>\n",
       "      <td>fresh vegetables</td>\n",
       "    </tr>\n",
       "    <tr>\n",
       "      <th>14</th>\n",
       "      <td>123</td>\n",
       "      <td>4</td>\n",
       "      <td>39275</td>\n",
       "      <td>100060</td>\n",
       "      <td>Organic Blueberries</td>\n",
       "      <td>produce</td>\n",
       "      <td>packaged vegetables fruits</td>\n",
       "    </tr>\n",
       "    <tr>\n",
       "      <th>15</th>\n",
       "      <td>83</td>\n",
       "      <td>4</td>\n",
       "      <td>49683</td>\n",
       "      <td>97315</td>\n",
       "      <td>Cucumber Kirby</td>\n",
       "      <td>produce</td>\n",
       "      <td>fresh vegetables</td>\n",
       "    </tr>\n",
       "    <tr>\n",
       "      <th>16</th>\n",
       "      <td>24</td>\n",
       "      <td>4</td>\n",
       "      <td>28204</td>\n",
       "      <td>89632</td>\n",
       "      <td>Organic Fuji Apple</td>\n",
       "      <td>produce</td>\n",
       "      <td>fresh fruits</td>\n",
       "    </tr>\n",
       "    <tr>\n",
       "      <th>17</th>\n",
       "      <td>24</td>\n",
       "      <td>4</td>\n",
       "      <td>5876</td>\n",
       "      <td>87746</td>\n",
       "      <td>Organic Lemon</td>\n",
       "      <td>produce</td>\n",
       "      <td>fresh fruits</td>\n",
       "    </tr>\n",
       "    <tr>\n",
       "      <th>18</th>\n",
       "      <td>24</td>\n",
       "      <td>4</td>\n",
       "      <td>8277</td>\n",
       "      <td>85020</td>\n",
       "      <td>Apple Honeycrisp Organic</td>\n",
       "      <td>produce</td>\n",
       "      <td>fresh fruits</td>\n",
       "    </tr>\n",
       "    <tr>\n",
       "      <th>19</th>\n",
       "      <td>123</td>\n",
       "      <td>4</td>\n",
       "      <td>40706</td>\n",
       "      <td>84255</td>\n",
       "      <td>Organic Grape Tomatoes</td>\n",
       "      <td>produce</td>\n",
       "      <td>packaged vegetables fruits</td>\n",
       "    </tr>\n",
       "  </tbody>\n",
       "</table>\n",
       "</div>"
      ],
      "text/plain": [
       "   aisle_id  department_id  ...  department                       aisle\n",
       "0        24              4  ...     produce                fresh fruits\n",
       "1        24              4  ...     produce                fresh fruits\n",
       "2        24              4  ...     produce                fresh fruits\n",
       "3       123              4  ...     produce  packaged vegetables fruits\n",
       "4        24              4  ...     produce                fresh fruits\n",
       "5        24              4  ...     produce                fresh fruits\n",
       "6        24              4  ...     produce                fresh fruits\n",
       "7        24              4  ...     produce                fresh fruits\n",
       "8        24              4  ...     produce                fresh fruits\n",
       "9        84             16  ...  dairy eggs                        milk\n",
       "10      123              4  ...     produce  packaged vegetables fruits\n",
       "11       83              4  ...     produce            fresh vegetables\n",
       "12       83              4  ...     produce            fresh vegetables\n",
       "13       83              4  ...     produce            fresh vegetables\n",
       "14      123              4  ...     produce  packaged vegetables fruits\n",
       "15       83              4  ...     produce            fresh vegetables\n",
       "16       24              4  ...     produce                fresh fruits\n",
       "17       24              4  ...     produce                fresh fruits\n",
       "18       24              4  ...     produce                fresh fruits\n",
       "19      123              4  ...     produce  packaged vegetables fruits\n",
       "\n",
       "[20 rows x 7 columns]"
      ]
     },
     "execution_count": 103,
     "metadata": {
      "tags": []
     },
     "output_type": "execute_result"
    }
   ],
   "source": [
    "# Order By 'Total number of Purchases' and convert it to Pandas Dataframe\n",
    "prd_top20_pd = prd_top20.orderBy(col('p_total_purchases'), ascending=False).toPandas()\n",
    "prd_top20_pd.head(20)"
   ]
  },
  {
   "cell_type": "code",
   "execution_count": null,
   "metadata": {
    "colab": {
     "base_uri": "https://localhost:8080/",
     "height": 533
    },
    "id": "0qPwu9IKXq17",
    "outputId": "e8140569-6852-47d5-a52a-ee096dcf357f"
   },
   "outputs": [
    {
     "data": {
      "image/png": "[encoded data removed]",
      "text/plain": [
       "<Figure size 1152x360 with 1 Axes>"
      ]
     },
     "metadata": {
      "needs_background": "light",
      "tags": []
     },
     "output_type": "display_data"
    }
   ],
   "source": [
    "#plot top 20 purchased products \n",
    "%matplotlib inline\n",
    "import matplotlib.pyplot as plt\n",
    "import seaborn as sns\n",
    "from pyspark.sql.functions import col\n",
    "\n",
    "\n",
    "plt.figure(figsize=(16,5))\n",
    "ax = sns.barplot(data = prd_top20_pd.sort_values(by='p_total_purchases', ascending=False)[:20], x= \"product_name\", y = \"p_total_purchases\")\n",
    "plt.xticks(rotation='vertical',fontsize=16)\n",
    "plt.show()"
   ]
  },
  {
   "cell_type": "code",
   "execution_count": null,
   "metadata": {
    "colab": {
     "base_uri": "https://localhost:8080/",
     "height": 454
    },
    "id": "GBUDL5z7SWXB",
    "outputId": "608395ef-12e6-4bf3-cd97-a4c78c5da26d"
   },
   "outputs": [
    {
     "data": {
      "image/png": "[encoded data removed]",
      "text/plain": [
       "<Figure size 1152x360 with 1 Axes>"
      ]
     },
     "metadata": {
      "needs_background": "light",
      "tags": []
     },
     "output_type": "display_data"
    }
   ],
   "source": [
    "#Show Top Departments that most products are Purchased from\n",
    "plt.figure(figsize=(16,5))\n",
    "#plt.bar\n",
    "ax = sns.barplot(data = prd_top20_pd.sort_values(by='p_total_purchases', ascending=False)[:200], x= \"department\", y = \"p_total_purchases\")\n",
    "plt.xticks(rotation='vertical',fontsize=16)\n",
    "plt.show()"
   ]
  },
  {
   "cell_type": "code",
   "execution_count": null,
   "metadata": {
    "colab": {
     "base_uri": "https://localhost:8080/",
     "height": 559
    },
    "id": "XexNk889Sdg6",
    "outputId": "de59eaa7-3db1-4eae-fbb6-27cf5985074c"
   },
   "outputs": [
    {
     "data": {
      "image/png": "[encoded data removed]",
      "text/plain": [
       "<Figure size 1152x360 with 1 Axes>"
      ]
     },
     "metadata": {
      "needs_background": "light",
      "tags": []
     },
     "output_type": "display_data"
    }
   ],
   "source": [
    "#Show Top aisles that most products are Purchased from\n",
    "plt.figure(figsize=(16,5))\n",
    "#plt.bar\n",
    "ax = sns.barplot(data = prd_top20_pd[:100], x= \"aisle\", y = \"p_total_purchases\")\n",
    "plt.xticks(rotation='vertical',fontsize=16)\n",
    "plt.show()"
   ]
  },
  {
   "cell_type": "markdown",
   "metadata": {
    "id": "LhS5rhQISvd9"
   },
   "source": [
    "# 5. Modeling the data (Prediction Model)  \n",
    "\n",
    "## 5.1 using Scikit-learn\n",
    "\n",
    "To create the predictive model we:\n",
    "\n",
    "1 - We create a DataFrame with all the predictors, named X_train and a Series with the response, named y_train\n",
    "\n",
    "2 - We initiate a Random Forest Classifier of scikit-learn package. On RandomForestClassifier( ) you will notice different arguments:\n",
    "\n",
    "n_estimators: defines the total number of different decision trees that will be made (can be tuned to provide better F1 score)\n",
    "n_jobs: defines the total number of CPU processors that will be used to train the model. Value -1 means that all processors will be used (there is not need to be tuned)\n",
    "random_state: a seed number so can reproduce the same models with our algorithm. Different seed numbers yield to slightly different models (there is not need to be tuned)\n",
    "\n",
    "3 - Finally we train our model with the X_train and y_train data"
   ]
  },
  {
   "cell_type": "code",
   "execution_count": null,
   "metadata": {
    "colab": {
     "base_uri": "https://localhost:8080/",
     "height": 391
    },
    "id": "jY0c12Sl9rAr",
    "outputId": "c8e10e6a-9f91-4b2d-ae64-478881431f85"
   },
   "outputs": [
    {
     "ename": "Py4JJavaError",
     "evalue": "ignored",
     "output_type": "error",
     "traceback": [
      "\u001b[0;31m---------------------------------------------------------------------------\u001b[0m",
      "\u001b[0;31mPy4JJavaError\u001b[0m                             Traceback (most recent call last)",
      "\u001b[0;32m<ipython-input-115-bf38b94d72bb>\u001b[0m in \u001b[0;36m<module>\u001b[0;34m()\u001b[0m\n\u001b[1;32m     13\u001b[0m \u001b[0;31m##############################################################\u001b[0m\u001b[0;34m\u001b[0m\u001b[0;34m\u001b[0m\u001b[0;34m\u001b[0m\u001b[0m\n\u001b[1;32m     14\u001b[0m \u001b[0;34m\u001b[0m\u001b[0m\n\u001b[0;32m---> 15\u001b[0;31m \u001b[0mX_df\u001b[0m \u001b[0;34m=\u001b[0m \u001b[0mdata_train\u001b[0m\u001b[0;34m.\u001b[0m\u001b[0mdrop\u001b[0m\u001b[0;34m(\u001b[0m\u001b[0;34m'reordered'\u001b[0m\u001b[0;34m)\u001b[0m\u001b[0;34m.\u001b[0m\u001b[0mtoPandas\u001b[0m\u001b[0;34m(\u001b[0m\u001b[0;34m)\u001b[0m\u001b[0;34m\u001b[0m\u001b[0;34m\u001b[0m\u001b[0m\n\u001b[0m\u001b[1;32m     16\u001b[0m \u001b[0mY_df\u001b[0m \u001b[0;34m=\u001b[0m \u001b[0mdata_train\u001b[0m\u001b[0;34m.\u001b[0m\u001b[0mselect\u001b[0m\u001b[0;34m(\u001b[0m\u001b[0;34m'reordered'\u001b[0m\u001b[0;34m)\u001b[0m\u001b[0;34m.\u001b[0m\u001b[0mtoPandas\u001b[0m\u001b[0;34m(\u001b[0m\u001b[0;34m)\u001b[0m\u001b[0;34m\u001b[0m\u001b[0;34m\u001b[0m\u001b[0m\n\u001b[1;32m     17\u001b[0m \u001b[0mX_df\u001b[0m\u001b[0;34m.\u001b[0m\u001b[0mhead\u001b[0m\u001b[0;34m(\u001b[0m\u001b[0;36m5\u001b[0m\u001b[0;34m)\u001b[0m\u001b[0;34m\u001b[0m\u001b[0;34m\u001b[0m\u001b[0m\n",
      "\u001b[0;32m/content/spark-3.0.1-bin-hadoop3.2/python/pyspark/sql/pandas/conversion.py\u001b[0m in \u001b[0;36mtoPandas\u001b[0;34m(self)\u001b[0m\n\u001b[1;32m    136\u001b[0m \u001b[0;34m\u001b[0m\u001b[0m\n\u001b[1;32m    137\u001b[0m         \u001b[0;31m# Below is toPandas without Arrow optimization.\u001b[0m\u001b[0;34m\u001b[0m\u001b[0;34m\u001b[0m\u001b[0;34m\u001b[0m\u001b[0m\n\u001b[0;32m--> 138\u001b[0;31m         \u001b[0mpdf\u001b[0m \u001b[0;34m=\u001b[0m \u001b[0mpd\u001b[0m\u001b[0;34m.\u001b[0m\u001b[0mDataFrame\u001b[0m\u001b[0;34m.\u001b[0m\u001b[0mfrom_records\u001b[0m\u001b[0;34m(\u001b[0m\u001b[0mself\u001b[0m\u001b[0;34m.\u001b[0m\u001b[0mcollect\u001b[0m\u001b[0;34m(\u001b[0m\u001b[0;34m)\u001b[0m\u001b[0;34m,\u001b[0m \u001b[0mcolumns\u001b[0m\u001b[0;34m=\u001b[0m\u001b[0mself\u001b[0m\u001b[0;34m.\u001b[0m\u001b[0mcolumns\u001b[0m\u001b[0;34m)\u001b[0m\u001b[0;34m\u001b[0m\u001b[0;34m\u001b[0m\u001b[0m\n\u001b[0m\u001b[1;32m    139\u001b[0m         \u001b[0mcolumn_counter\u001b[0m \u001b[0;34m=\u001b[0m \u001b[0mCounter\u001b[0m\u001b[0;34m(\u001b[0m\u001b[0mself\u001b[0m\u001b[0;34m.\u001b[0m\u001b[0mcolumns\u001b[0m\u001b[0;34m)\u001b[0m\u001b[0;34m\u001b[0m\u001b[0;34m\u001b[0m\u001b[0m\n\u001b[1;32m    140\u001b[0m \u001b[0;34m\u001b[0m\u001b[0m\n",
      "\u001b[0;32m/content/spark-3.0.1-bin-hadoop3.2/python/pyspark/sql/dataframe.py\u001b[0m in \u001b[0;36mcollect\u001b[0;34m(self)\u001b[0m\n\u001b[1;32m    594\u001b[0m         \"\"\"\n\u001b[1;32m    595\u001b[0m         \u001b[0;32mwith\u001b[0m \u001b[0mSCCallSiteSync\u001b[0m\u001b[0;34m(\u001b[0m\u001b[0mself\u001b[0m\u001b[0;34m.\u001b[0m\u001b[0m_sc\u001b[0m\u001b[0;34m)\u001b[0m \u001b[0;32mas\u001b[0m \u001b[0mcss\u001b[0m\u001b[0;34m:\u001b[0m\u001b[0;34m\u001b[0m\u001b[0;34m\u001b[0m\u001b[0m\n\u001b[0;32m--> 596\u001b[0;31m             \u001b[0msock_info\u001b[0m \u001b[0;34m=\u001b[0m \u001b[0mself\u001b[0m\u001b[0;34m.\u001b[0m\u001b[0m_jdf\u001b[0m\u001b[0;34m.\u001b[0m\u001b[0mcollectToPython\u001b[0m\u001b[0;34m(\u001b[0m\u001b[0;34m)\u001b[0m\u001b[0;34m\u001b[0m\u001b[0;34m\u001b[0m\u001b[0m\n\u001b[0m\u001b[1;32m    597\u001b[0m         \u001b[0;32mreturn\u001b[0m \u001b[0mlist\u001b[0m\u001b[0;34m(\u001b[0m\u001b[0m_load_from_socket\u001b[0m\u001b[0;34m(\u001b[0m\u001b[0msock_info\u001b[0m\u001b[0;34m,\u001b[0m \u001b[0mBatchedSerializer\u001b[0m\u001b[0;34m(\u001b[0m\u001b[0mPickleSerializer\u001b[0m\u001b[0;34m(\u001b[0m\u001b[0;34m)\u001b[0m\u001b[0;34m)\u001b[0m\u001b[0;34m)\u001b[0m\u001b[0;34m)\u001b[0m\u001b[0;34m\u001b[0m\u001b[0;34m\u001b[0m\u001b[0m\n\u001b[1;32m    598\u001b[0m \u001b[0;34m\u001b[0m\u001b[0m\n",
      "\u001b[0;32m/content/spark-3.0.1-bin-hadoop3.2/python/lib/py4j-0.10.9-src.zip/py4j/java_gateway.py\u001b[0m in \u001b[0;36m__call__\u001b[0;34m(self, *args)\u001b[0m\n\u001b[1;32m   1303\u001b[0m         \u001b[0manswer\u001b[0m \u001b[0;34m=\u001b[0m \u001b[0mself\u001b[0m\u001b[0;34m.\u001b[0m\u001b[0mgateway_client\u001b[0m\u001b[0;34m.\u001b[0m\u001b[0msend_command\u001b[0m\u001b[0;34m(\u001b[0m\u001b[0mcommand\u001b[0m\u001b[0;34m)\u001b[0m\u001b[0;34m\u001b[0m\u001b[0;34m\u001b[0m\u001b[0m\n\u001b[1;32m   1304\u001b[0m         return_value = get_return_value(\n\u001b[0;32m-> 1305\u001b[0;31m             answer, self.gateway_client, self.target_id, self.name)\n\u001b[0m\u001b[1;32m   1306\u001b[0m \u001b[0;34m\u001b[0m\u001b[0m\n\u001b[1;32m   1307\u001b[0m         \u001b[0;32mfor\u001b[0m \u001b[0mtemp_arg\u001b[0m \u001b[0;32min\u001b[0m \u001b[0mtemp_args\u001b[0m\u001b[0;34m:\u001b[0m\u001b[0;34m\u001b[0m\u001b[0;34m\u001b[0m\u001b[0m\n",
      "\u001b[0;32m/content/spark-3.0.1-bin-hadoop3.2/python/pyspark/sql/utils.py\u001b[0m in \u001b[0;36mdeco\u001b[0;34m(*a, **kw)\u001b[0m\n\u001b[1;32m    126\u001b[0m     \u001b[0;32mdef\u001b[0m \u001b[0mdeco\u001b[0m\u001b[0;34m(\u001b[0m\u001b[0;34m*\u001b[0m\u001b[0ma\u001b[0m\u001b[0;34m,\u001b[0m \u001b[0;34m**\u001b[0m\u001b[0mkw\u001b[0m\u001b[0;34m)\u001b[0m\u001b[0;34m:\u001b[0m\u001b[0;34m\u001b[0m\u001b[0;34m\u001b[0m\u001b[0m\n\u001b[1;32m    127\u001b[0m         \u001b[0;32mtry\u001b[0m\u001b[0;34m:\u001b[0m\u001b[0;34m\u001b[0m\u001b[0;34m\u001b[0m\u001b[0m\n\u001b[0;32m--> 128\u001b[0;31m             \u001b[0;32mreturn\u001b[0m \u001b[0mf\u001b[0m\u001b[0;34m(\u001b[0m\u001b[0;34m*\u001b[0m\u001b[0ma\u001b[0m\u001b[0;34m,\u001b[0m \u001b[0;34m**\u001b[0m\u001b[0mkw\u001b[0m\u001b[0;34m)\u001b[0m\u001b[0;34m\u001b[0m\u001b[0;34m\u001b[0m\u001b[0m\n\u001b[0m\u001b[1;32m    129\u001b[0m         \u001b[0;32mexcept\u001b[0m \u001b[0mpy4j\u001b[0m\u001b[0;34m.\u001b[0m\u001b[0mprotocol\u001b[0m\u001b[0;34m.\u001b[0m\u001b[0mPy4JJavaError\u001b[0m \u001b[0;32mas\u001b[0m \u001b[0me\u001b[0m\u001b[0;34m:\u001b[0m\u001b[0;34m\u001b[0m\u001b[0;34m\u001b[0m\u001b[0m\n\u001b[1;32m    130\u001b[0m             \u001b[0mconverted\u001b[0m \u001b[0;34m=\u001b[0m \u001b[0mconvert_exception\u001b[0m\u001b[0;34m(\u001b[0m\u001b[0me\u001b[0m\u001b[0;34m.\u001b[0m\u001b[0mjava_exception\u001b[0m\u001b[0;34m)\u001b[0m\u001b[0;34m\u001b[0m\u001b[0;34m\u001b[0m\u001b[0m\n",
      "\u001b[0;32m/content/spark-3.0.1-bin-hadoop3.2/python/lib/py4j-0.10.9-src.zip/py4j/protocol.py\u001b[0m in \u001b[0;36mget_return_value\u001b[0;34m(answer, gateway_client, target_id, name)\u001b[0m\n\u001b[1;32m    326\u001b[0m                 raise Py4JJavaError(\n\u001b[1;32m    327\u001b[0m                     \u001b[0;34m\"An error occurred while calling {0}{1}{2}.\\n\"\u001b[0m\u001b[0;34m.\u001b[0m\u001b[0;34m\u001b[0m\u001b[0;34m\u001b[0m\u001b[0m\n\u001b[0;32m--> 328\u001b[0;31m                     format(target_id, \".\", name), value)\n\u001b[0m\u001b[1;32m    329\u001b[0m             \u001b[0;32melse\u001b[0m\u001b[0;34m:\u001b[0m\u001b[0;34m\u001b[0m\u001b[0;34m\u001b[0m\u001b[0m\n\u001b[1;32m    330\u001b[0m                 raise Py4JError(\n",
      "\u001b[0;31mPy4JJavaError\u001b[0m: An error occurred while calling o552.collectToPython.\n: java.lang.OutOfMemoryError: Java heap space\n"
     ]
    }
   ],
   "source": [
    "# TRAIN 80% - VALIDATE 20% \n",
    "\n",
    "##########################\n",
    "##IMPORT REQUIRED PACKAGES\n",
    "##########################\n",
    "from sklearn.ensemble import RandomForestClassifier\n",
    "from sklearn.model_selection import train_test_split #validate algorithm\n",
    "from sklearn.metrics import f1_score, classification_report, confusion_matrix\n",
    "\n",
    "##############################################################\n",
    "## SPLIT DF TO: 80% for training and 20% as validation (axis=0) \n",
    "## & THEN TO to X_train, X_val, y_train, y_val (axis=1)\n",
    "##############################################################\n",
    "\n",
    "X_df = data_train.drop('reordered')#.toPandas()\n",
    "Y_df = data_train.select('reordered')#.toPandas()\n",
    "X_df.head(5)"
   ]
  },
  {
   "cell_type": "code",
   "execution_count": null,
   "metadata": {
    "colab": {
     "base_uri": "https://localhost:8080/",
     "height": 204
    },
    "id": "u4s9xMyMOxzM",
    "outputId": "4b96afac-2017-4c95-85ad-f7d17bcd460f"
   },
   "outputs": [
    {
     "name": "stdout",
     "output_type": "stream",
     "text": [
      "+---------+\n",
      "|reordered|\n",
      "+---------+\n",
      "|        0|\n",
      "|        0|\n",
      "|        0|\n",
      "|        0|\n",
      "|        0|\n",
      "+---------+\n",
      "only showing top 5 rows\n",
      "\n"
     ]
    }
   ],
   "source": [
    "Y_df.head(5)"
   ]
  },
  {
   "cell_type": "code",
   "execution_count": null,
   "metadata": {
    "colab": {
     "base_uri": "https://localhost:8080/",
     "height": 391
    },
    "id": "j0mDAKglBXWH",
    "outputId": "c8dd3673-957e-43d5-80d2-d543c46e7656"
   },
   "outputs": [
    {
     "ename": "Py4JJavaError",
     "evalue": "ignored",
     "output_type": "error",
     "traceback": [
      "\u001b[0;31m---------------------------------------------------------------------------\u001b[0m",
      "\u001b[0;31mPy4JJavaError\u001b[0m                             Traceback (most recent call last)",
      "\u001b[0;32m<ipython-input-111-4f1a3daa425e>\u001b[0m in \u001b[0;36m<module>\u001b[0;34m()\u001b[0m\n\u001b[1;32m      3\u001b[0m \u001b[0;32mfrom\u001b[0m \u001b[0msklearn\u001b[0m\u001b[0;34m.\u001b[0m\u001b[0mmetrics\u001b[0m \u001b[0;32mimport\u001b[0m \u001b[0maccuracy_score\u001b[0m  \u001b[0;31m# for calculating accuracy\u001b[0m\u001b[0;34m\u001b[0m\u001b[0;34m\u001b[0m\u001b[0m\n\u001b[1;32m      4\u001b[0m \u001b[0;32mfrom\u001b[0m \u001b[0msklearn\u001b[0m\u001b[0;34m.\u001b[0m\u001b[0mmetrics\u001b[0m \u001b[0;32mimport\u001b[0m \u001b[0mprecision_recall_fscore_support\u001b[0m  \u001b[0;31m# for calculating precision, recall, and F1-score\u001b[0m\u001b[0;34m\u001b[0m\u001b[0;34m\u001b[0m\u001b[0m\n\u001b[0;32m----> 5\u001b[0;31m \u001b[0mX_train\u001b[0m\u001b[0;34m,\u001b[0m \u001b[0mX_val\u001b[0m\u001b[0;34m,\u001b[0m \u001b[0mY_train\u001b[0m\u001b[0;34m,\u001b[0m \u001b[0mY_val\u001b[0m \u001b[0;34m=\u001b[0m \u001b[0mtrain_test_split\u001b[0m\u001b[0;34m(\u001b[0m\u001b[0mdata_train\u001b[0m\u001b[0;34m.\u001b[0m\u001b[0mcollect\u001b[0m\u001b[0;34m(\u001b[0m\u001b[0;34m)\u001b[0m\u001b[0;34m,\u001b[0m \u001b[0mdata_train\u001b[0m\u001b[0;34m.\u001b[0m\u001b[0mcollect\u001b[0m\u001b[0;34m(\u001b[0m\u001b[0;34m)\u001b[0m\u001b[0;34m,\u001b[0m \u001b[0mtest_size\u001b[0m\u001b[0;34m=\u001b[0m\u001b[0;36m0.2\u001b[0m\u001b[0;34m,\u001b[0m \u001b[0mrandom_state\u001b[0m\u001b[0;34m=\u001b[0m\u001b[0;36m42\u001b[0m\u001b[0;34m)\u001b[0m\u001b[0;34m\u001b[0m\u001b[0;34m\u001b[0m\u001b[0m\n\u001b[0m\u001b[1;32m      6\u001b[0m \u001b[0;34m\u001b[0m\u001b[0m\n\u001b[1;32m      7\u001b[0m \u001b[0;31m##########################\u001b[0m\u001b[0;34m\u001b[0m\u001b[0;34m\u001b[0m\u001b[0;34m\u001b[0m\u001b[0m\n",
      "\u001b[0;32m/content/spark-3.0.1-bin-hadoop3.2/python/pyspark/sql/dataframe.py\u001b[0m in \u001b[0;36mcollect\u001b[0;34m(self)\u001b[0m\n\u001b[1;32m    594\u001b[0m         \"\"\"\n\u001b[1;32m    595\u001b[0m         \u001b[0;32mwith\u001b[0m \u001b[0mSCCallSiteSync\u001b[0m\u001b[0;34m(\u001b[0m\u001b[0mself\u001b[0m\u001b[0;34m.\u001b[0m\u001b[0m_sc\u001b[0m\u001b[0;34m)\u001b[0m \u001b[0;32mas\u001b[0m \u001b[0mcss\u001b[0m\u001b[0;34m:\u001b[0m\u001b[0;34m\u001b[0m\u001b[0;34m\u001b[0m\u001b[0m\n\u001b[0;32m--> 596\u001b[0;31m             \u001b[0msock_info\u001b[0m \u001b[0;34m=\u001b[0m \u001b[0mself\u001b[0m\u001b[0;34m.\u001b[0m\u001b[0m_jdf\u001b[0m\u001b[0;34m.\u001b[0m\u001b[0mcollectToPython\u001b[0m\u001b[0;34m(\u001b[0m\u001b[0;34m)\u001b[0m\u001b[0;34m\u001b[0m\u001b[0;34m\u001b[0m\u001b[0m\n\u001b[0m\u001b[1;32m    597\u001b[0m         \u001b[0;32mreturn\u001b[0m \u001b[0mlist\u001b[0m\u001b[0;34m(\u001b[0m\u001b[0m_load_from_socket\u001b[0m\u001b[0;34m(\u001b[0m\u001b[0msock_info\u001b[0m\u001b[0;34m,\u001b[0m \u001b[0mBatchedSerializer\u001b[0m\u001b[0;34m(\u001b[0m\u001b[0mPickleSerializer\u001b[0m\u001b[0;34m(\u001b[0m\u001b[0;34m)\u001b[0m\u001b[0;34m)\u001b[0m\u001b[0;34m)\u001b[0m\u001b[0;34m)\u001b[0m\u001b[0;34m\u001b[0m\u001b[0;34m\u001b[0m\u001b[0m\n\u001b[1;32m    598\u001b[0m \u001b[0;34m\u001b[0m\u001b[0m\n",
      "\u001b[0;32m/content/spark-3.0.1-bin-hadoop3.2/python/lib/py4j-0.10.9-src.zip/py4j/java_gateway.py\u001b[0m in \u001b[0;36m__call__\u001b[0;34m(self, *args)\u001b[0m\n\u001b[1;32m   1303\u001b[0m         \u001b[0manswer\u001b[0m \u001b[0;34m=\u001b[0m \u001b[0mself\u001b[0m\u001b[0;34m.\u001b[0m\u001b[0mgateway_client\u001b[0m\u001b[0;34m.\u001b[0m\u001b[0msend_command\u001b[0m\u001b[0;34m(\u001b[0m\u001b[0mcommand\u001b[0m\u001b[0;34m)\u001b[0m\u001b[0;34m\u001b[0m\u001b[0;34m\u001b[0m\u001b[0m\n\u001b[1;32m   1304\u001b[0m         return_value = get_return_value(\n\u001b[0;32m-> 1305\u001b[0;31m             answer, self.gateway_client, self.target_id, self.name)\n\u001b[0m\u001b[1;32m   1306\u001b[0m \u001b[0;34m\u001b[0m\u001b[0m\n\u001b[1;32m   1307\u001b[0m         \u001b[0;32mfor\u001b[0m \u001b[0mtemp_arg\u001b[0m \u001b[0;32min\u001b[0m \u001b[0mtemp_args\u001b[0m\u001b[0;34m:\u001b[0m\u001b[0;34m\u001b[0m\u001b[0;34m\u001b[0m\u001b[0m\n",
      "\u001b[0;32m/content/spark-3.0.1-bin-hadoop3.2/python/pyspark/sql/utils.py\u001b[0m in \u001b[0;36mdeco\u001b[0;34m(*a, **kw)\u001b[0m\n\u001b[1;32m    126\u001b[0m     \u001b[0;32mdef\u001b[0m \u001b[0mdeco\u001b[0m\u001b[0;34m(\u001b[0m\u001b[0;34m*\u001b[0m\u001b[0ma\u001b[0m\u001b[0;34m,\u001b[0m \u001b[0;34m**\u001b[0m\u001b[0mkw\u001b[0m\u001b[0;34m)\u001b[0m\u001b[0;34m:\u001b[0m\u001b[0;34m\u001b[0m\u001b[0;34m\u001b[0m\u001b[0m\n\u001b[1;32m    127\u001b[0m         \u001b[0;32mtry\u001b[0m\u001b[0;34m:\u001b[0m\u001b[0;34m\u001b[0m\u001b[0;34m\u001b[0m\u001b[0m\n\u001b[0;32m--> 128\u001b[0;31m             \u001b[0;32mreturn\u001b[0m \u001b[0mf\u001b[0m\u001b[0;34m(\u001b[0m\u001b[0;34m*\u001b[0m\u001b[0ma\u001b[0m\u001b[0;34m,\u001b[0m \u001b[0;34m**\u001b[0m\u001b[0mkw\u001b[0m\u001b[0;34m)\u001b[0m\u001b[0;34m\u001b[0m\u001b[0;34m\u001b[0m\u001b[0m\n\u001b[0m\u001b[1;32m    129\u001b[0m         \u001b[0;32mexcept\u001b[0m \u001b[0mpy4j\u001b[0m\u001b[0;34m.\u001b[0m\u001b[0mprotocol\u001b[0m\u001b[0;34m.\u001b[0m\u001b[0mPy4JJavaError\u001b[0m \u001b[0;32mas\u001b[0m \u001b[0me\u001b[0m\u001b[0;34m:\u001b[0m\u001b[0;34m\u001b[0m\u001b[0;34m\u001b[0m\u001b[0m\n\u001b[1;32m    130\u001b[0m             \u001b[0mconverted\u001b[0m \u001b[0;34m=\u001b[0m \u001b[0mconvert_exception\u001b[0m\u001b[0;34m(\u001b[0m\u001b[0me\u001b[0m\u001b[0;34m.\u001b[0m\u001b[0mjava_exception\u001b[0m\u001b[0;34m)\u001b[0m\u001b[0;34m\u001b[0m\u001b[0;34m\u001b[0m\u001b[0m\n",
      "\u001b[0;32m/content/spark-3.0.1-bin-hadoop3.2/python/lib/py4j-0.10.9-src.zip/py4j/protocol.py\u001b[0m in \u001b[0;36mget_return_value\u001b[0;34m(answer, gateway_client, target_id, name)\u001b[0m\n\u001b[1;32m    326\u001b[0m                 raise Py4JJavaError(\n\u001b[1;32m    327\u001b[0m                     \u001b[0;34m\"An error occurred while calling {0}{1}{2}.\\n\"\u001b[0m\u001b[0;34m.\u001b[0m\u001b[0;34m\u001b[0m\u001b[0;34m\u001b[0m\u001b[0m\n\u001b[0;32m--> 328\u001b[0;31m                     format(target_id, \".\", name), value)\n\u001b[0m\u001b[1;32m    329\u001b[0m             \u001b[0;32melse\u001b[0m\u001b[0;34m:\u001b[0m\u001b[0;34m\u001b[0m\u001b[0;34m\u001b[0m\u001b[0m\n\u001b[1;32m    330\u001b[0m                 raise Py4JError(\n",
      "\u001b[0;31mPy4JJavaError\u001b[0m: An error occurred while calling o246.collectToPython.\n: java.lang.OutOfMemoryError: Java heap space\n"
     ]
    }
   ],
   "source": [
    "from sklearn.model_selection import train_test_split  # for splitting the data into train and test sets\n",
    "\n",
    "from sklearn.metrics import accuracy_score  # for calculating accuracy\n",
    "from sklearn.metrics import precision_recall_fscore_support  # for calculating precision, recall, and F1-score\n",
    "X_train, X_val, Y_train, Y_val = train_test_split(X_df, Y_df, test_size=0.2, random_state=42)\n",
    "\n",
    "##########################\n",
    "## INITIATE AND TRAIN MODEL\n",
    "##########################\n",
    "rfc = RandomForestClassifier(n_estimators=10, n_jobs=-1 ,random_state=42)\n",
    "model = rfc.fit(X_train, Y_train) #"
   ]
  },
  {
   "cell_type": "code",
   "execution_count": null,
   "metadata": {
    "id": "SiKFn8ur-OJc"
   },
   "outputs": [],
   "source": [
    "\n",
    "#####################################\n",
    "## SCORE MODEL ON VALIDATION SET\n",
    "#####################################\n",
    "### Predict on validation set with fixed threshold\n",
    "\n",
    "y_val_pred = (model.predict_proba(X_val)[:,1] >= 0.30).astype(int)\n",
    "\n",
    "### Get scores on validation set\n",
    "print(\"RESULTS ON VALIDATION SET\\n====================\")\n",
    "print(\"F1 Score: \",f1_score(y_val, y_val_pred, average='binary'), \"\\n====================\")\n",
    "print(\"Classification Report\\n \", classification_report(y_val, y_val_pred), \"\\n====================\")\n",
    "print(\"Confusion Matrix\\n \", confusion_matrix(y_val, y_val_pred))\n",
    "\n",
    "### Remove validate algorithm objects\n",
    "del [X_val, y_val]"
   ]
  },
  {
   "cell_type": "code",
   "execution_count": null,
   "metadata": {
    "id": "Flw3Cusy9kRf"
   },
   "outputs": [],
   "source": [
    "############################\n",
    "# FEATURE IMPORTANCE - AS DF\n",
    "############################\n",
    "feature_importances_df = pd.DataFrame(model.feature_importances_, index = X_train.columns, columns=['importance']).sort_values('importance',ascending=False)\n",
    "print(feature_importances_df)\n",
    "\n",
    "##################################\n",
    "# FEATURE IMPORTANCE - GRAPHICAL\n",
    "##################################\n",
    "feat_importances = pd.Series(model.feature_importances_, index=X_train.columns).sort_values()\n",
    "feat_importances.plot(kind='barh')\n",
    "\n",
    "############################\n",
    "# DELETE TEMPORARY OBJECTS #\n",
    "############################\n",
    "del [X_train, y_train]\n",
    "gc.collect()"
   ]
  },
  {
   "cell_type": "markdown",
   "metadata": {
    "id": "adn2WMLF-1dE"
   },
   "source": [
    "## 5.1 using Spark ML Lib\n"
   ]
  },
  {
   "cell_type": "code",
   "execution_count": null,
   "metadata": {
    "id": "_nlKOR8k-tYW"
   },
   "outputs": [],
   "source": []
  },
  {
   "cell_type": "markdown",
   "metadata": {
    "id": "__huV8duOfhZ"
   },
   "source": [
    "# 6. Interpreting the data"
   ]
  },
  {
   "cell_type": "markdown",
   "metadata": {
    "id": "aSuluyxEPq6p"
   },
   "source": [
    "References:  \n",
    "https://databricks.com/blog/2016/07/14/a-tale-of-three-apache-spark-apis-rdds-dataframes-and-datasets.html\n",
    "https://www.kaggle.com/uomislab/instacart-rfc-notebook  \n",
    "https://spark.apache.org/docs/latest/mllib-ensembles.html  \n",
    "https://medium.com/rahasak/random-forest-classifier-with-apache-spark-c63b4a23a7cc"
   ]
  }
 ],
 "metadata": {
  "colab": {
   "collapsed_sections": [],
   "name": "Final_Project.ipynb",
   "provenance": []
  },
  "kernelspec": {
   "display_name": "Python 3",
   "language": "python",
   "name": "python3"
  },
  "language_info": {
   "codemirror_mode": {
    "name": "ipython",
    "version": 3
   },
   "file_extension": ".py",
   "mimetype": "text/x-python",
   "name": "python",
   "nbconvert_exporter": "python",
   "pygments_lexer": "ipython3",
   "version": "3.7.4"
  }
 },
 "nbformat": 4,
 "nbformat_minor": 1
}
